{
 "cells": [
  {
   "cell_type": "code",
   "execution_count": 1,
   "id": "cc9f89ef-01c5-4f6e-88d0-3b0546c46ed6",
   "metadata": {},
   "outputs": [
    {
     "name": "stdout",
     "output_type": "stream",
     "text": [
      "/home/shared/luis/ScientificProgramming\n"
     ]
    }
   ],
   "source": [
    "!pwd"
   ]
  },
  {
   "cell_type": "code",
   "execution_count": 2,
   "id": "597c6e80-a335-473d-999c-71a73811a767",
   "metadata": {},
   "outputs": [
    {
     "name": "stdout",
     "output_type": "stream",
     "text": [
      "/home/shared/luis\n"
     ]
    }
   ],
   "source": [
    "cd .."
   ]
  },
  {
   "cell_type": "code",
   "execution_count": 3,
   "id": "3ae4e077-3c61-4422-b79a-185b218e2806",
   "metadata": {},
   "outputs": [
    {
     "name": "stdout",
     "output_type": "stream",
     "text": [
      "\u001b[0m\u001b[01;34mMRI_Tool\u001b[0m/                   Untitled.ipynb  \u001b[01;34mct_seg_tool\u001b[0m/\n",
      "\u001b[01;34mPythonBootcamp_Activities\u001b[0m/  \u001b[01;34mVisualization\u001b[0m/  \u001b[01;34mpython_bootcamp\u001b[0m/\n",
      "\u001b[01;34mScientificProgramming\u001b[0m/      \u001b[01;34m__pycache__\u001b[0m/    \u001b[01;34mstack\u001b[0m/\n"
     ]
    }
   ],
   "source": [
    "ls"
   ]
  },
  {
   "cell_type": "code",
   "execution_count": 4,
   "id": "d8078efc-4bc2-43cb-823f-55621439c325",
   "metadata": {},
   "outputs": [
    {
     "name": "stdout",
     "output_type": "stream",
     "text": [
      "/home/shared/luis/ScientificProgramming\n"
     ]
    }
   ],
   "source": [
    "cd ScientificProgramming/"
   ]
  },
  {
   "cell_type": "code",
   "execution_count": 5,
   "id": "565e80ac-2f1e-4747-9fd4-8fe72a819737",
   "metadata": {},
   "outputs": [
    {
     "name": "stdout",
     "output_type": "stream",
     "text": [
      "Activities  Materials  README.md  Untitled.ipynb\n"
     ]
    }
   ],
   "source": [
    "!ls"
   ]
  },
  {
   "cell_type": "code",
   "execution_count": 6,
   "id": "572c847b-294a-4819-8c31-94a8b9e9607b",
   "metadata": {},
   "outputs": [],
   "source": [
    "!git add ."
   ]
  },
  {
   "cell_type": "code",
   "execution_count": 7,
   "id": "86f06355-082b-4d63-b282-ff1967a28ad4",
   "metadata": {},
   "outputs": [
    {
     "name": "stdout",
     "output_type": "stream",
     "text": [
      "[main d51e50f] Session 06\n",
      " 10 files changed, 1922 insertions(+), 62 deletions(-)\n",
      " create mode 100644 .ipynb_checkpoints/Untitled-checkpoint.ipynb\n",
      " create mode 100644 Materials/Session 06/Notebook/.ipynb_checkpoints/Activity-checkpoint.ipynb\n",
      " create mode 100644 Materials/Session 06/Notebook/.ipynb_checkpoints/Data Structures II-checkpoint.ipynb\n",
      " create mode 100644 Materials/Session 06/Notebook/Activity.ipynb\n",
      " create mode 100644 Materials/Session 06/Notebook/Data Structures II.ipynb\n",
      " create mode 100644 Materials/Session 06/Solution/.ipynb_checkpoints/Activity-SOLVED-checkpoint.ipynb\n",
      " create mode 100644 Materials/Session 06/Solution/Activity-SOLVED.ipynb\n",
      " create mode 100644 Untitled.ipynb\n"
     ]
    }
   ],
   "source": [
    "!git commit -m \"Session 06\""
   ]
  },
  {
   "cell_type": "code",
   "execution_count": null,
   "id": "fb3e214e-9ca4-4af8-b531-93506a19b8bc",
   "metadata": {},
   "outputs": [
    {
     "name": "stdout",
     "output_type": "stream",
     "text": [
      "Username for 'https://github.com': "
     ]
    }
   ],
   "source": [
    "!git push\n"
   ]
  },
  {
   "cell_type": "code",
   "execution_count": 10,
   "id": "74f5f0b4-22ed-427c-9fbc-88084510c00e",
   "metadata": {},
   "outputs": [
    {
     "data": {
      "text/plain": [
       "'lunerip'"
      ]
     },
     "execution_count": 10,
     "metadata": {},
     "output_type": "execute_result"
    }
   ],
   "source": []
  },
  {
   "cell_type": "code",
   "execution_count": null,
   "id": "25453e5e-de58-4a50-a3fa-9cfe68dc0c57",
   "metadata": {},
   "outputs": [],
   "source": []
  }
 ],
 "metadata": {
  "kernelspec": {
   "display_name": "Python 3",
   "language": "python",
   "name": "python3"
  },
  "language_info": {
   "codemirror_mode": {
    "name": "ipython",
    "version": 3
   },
   "file_extension": ".py",
   "mimetype": "text/x-python",
   "name": "python",
   "nbconvert_exporter": "python",
   "pygments_lexer": "ipython3",
   "version": "3.8.5"
  }
 },
 "nbformat": 4,
 "nbformat_minor": 5
}
