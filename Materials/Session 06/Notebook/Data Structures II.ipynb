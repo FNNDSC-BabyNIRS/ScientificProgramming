{
 "cells": [
  {
   "cell_type": "markdown",
   "id": "fa004488-6be4-4bfe-91df-b1ebdcca0c31",
   "metadata": {},
   "source": [
    "# Python Bootcamp \n",
    "## Session 06 - Data Structures II"
   ]
  },
  {
   "cell_type": "markdown",
   "id": "1b41fe16-39e5-4dd6-95ce-43184f8d4f5d",
   "metadata": {},
   "source": [
    "### Dictionary Operations\n",
    "\n",
    "Collection of data values of any type assigned to a key object.\n"
   ]
  },
  {
   "cell_type": "code",
   "execution_count": 62,
   "id": "d5ad115c-ff97-4087-9c5d-65000ccacdbf",
   "metadata": {},
   "outputs": [
    {
     "data": {
      "text/plain": [
       "{'my_key': 'my_value', 'apple': 54, 'student': True, 2: 4}"
      ]
     },
     "execution_count": 62,
     "metadata": {},
     "output_type": "execute_result"
    }
   ],
   "source": [
    "my_dictionary = {\"my_key\": \"my_value\", \"apple\": 54, \"student\": True, 2:4}\n",
    "\n",
    "my_dictionary"
   ]
  },
  {
   "cell_type": "markdown",
   "id": "6ae9c498-65c9-463c-b6c5-17c7a951395f",
   "metadata": {},
   "source": [
    "Get a value from dictionary:"
   ]
  },
  {
   "cell_type": "code",
   "execution_count": 8,
   "id": "6dd3c8b7-421b-4750-8e47-42f46b24a84d",
   "metadata": {},
   "outputs": [
    {
     "data": {
      "text/plain": [
       "4"
      ]
     },
     "execution_count": 8,
     "metadata": {},
     "output_type": "execute_result"
    }
   ],
   "source": [
    "my_dictionary[2]"
   ]
  },
  {
   "cell_type": "markdown",
   "id": "629701bc-8098-437c-a074-07dd6f938ae3",
   "metadata": {},
   "source": [
    "Update a value from dictionary"
   ]
  },
  {
   "cell_type": "code",
   "execution_count": 21,
   "id": "3886eb0e-00cd-40a1-b5c1-834d628c7aeb",
   "metadata": {},
   "outputs": [
    {
     "data": {
      "text/plain": [
       "60"
      ]
     },
     "execution_count": 21,
     "metadata": {},
     "output_type": "execute_result"
    }
   ],
   "source": [
    "my_dictionary[\"apple\"] = 60\n",
    "\n",
    "my_dictionary[\"apple\"]"
   ]
  },
  {
   "cell_type": "markdown",
   "id": "a4ba2129-42d8-4f5c-a69e-10269531d222",
   "metadata": {},
   "source": [
    "Add a value to the dictionary"
   ]
  },
  {
   "cell_type": "code",
   "execution_count": 22,
   "id": "1f026cba-f907-4ad9-8bdc-079b9b005b59",
   "metadata": {},
   "outputs": [
    {
     "data": {
      "text/plain": [
       "{'my_key': 'my_value', 'apple': 60, 'student': True, 2: 4, 'pear': 30}"
      ]
     },
     "execution_count": 22,
     "metadata": {},
     "output_type": "execute_result"
    }
   ],
   "source": [
    "my_dictionary[\"pear\"] = 30\n",
    "\n",
    "my_dictionary"
   ]
  },
  {
   "cell_type": "markdown",
   "id": "e22cc740-100a-4392-8f55-1ffebb7f4c2d",
   "metadata": {},
   "source": [
    "**clear():** Deletes all the elements from the dictionary."
   ]
  },
  {
   "cell_type": "code",
   "execution_count": 25,
   "id": "a4c78c6e-68bd-4dee-86a8-b1bc68625681",
   "metadata": {},
   "outputs": [
    {
     "data": {
      "text/plain": [
       "{}"
      ]
     },
     "execution_count": 25,
     "metadata": {},
     "output_type": "execute_result"
    }
   ],
   "source": [
    "my_dictionary = {\"my_key\": \"my_value\", \"apple\": 54, \"student\": True, 2:4}\n",
    "\n",
    "my_dictionary.clear()\n",
    "my_dictionary"
   ]
  },
  {
   "cell_type": "markdown",
   "id": "71987191-6ec9-438c-ac36-e3158e945184",
   "metadata": {},
   "source": [
    "**get():** Retrieves the value of the given key. If the key doesn't exist it doesn't generate an error, instead it returns None or a default value."
   ]
  },
  {
   "cell_type": "code",
   "execution_count": 35,
   "id": "973002b8-8563-4b40-9f5b-38443e181fb4",
   "metadata": {},
   "outputs": [
    {
     "name": "stdout",
     "output_type": "stream",
     "text": [
      "None\n"
     ]
    }
   ],
   "source": [
    "my_dictionary = {\"my_key\": \"my_value\", \"apple\": 54, \"student\": True, 2:4}\n",
    "\n",
    "print(my_dictionary.get(\"doesnt exist\")) "
   ]
  },
  {
   "cell_type": "markdown",
   "id": "a8c3e3e4-93ce-4b80-8660-6ee70136c62b",
   "metadata": {},
   "source": [
    "**items():** It returns a collection of tuples with the data from the dictionary."
   ]
  },
  {
   "cell_type": "code",
   "execution_count": 39,
   "id": "f8ee4338-bb15-4c51-af6d-81d8c9346e0d",
   "metadata": {},
   "outputs": [
    {
     "name": "stdout",
     "output_type": "stream",
     "text": [
      "('my_key', 'my_value')\n",
      "('apple', 54)\n",
      "('student', True)\n",
      "(2, 4)\n"
     ]
    }
   ],
   "source": [
    "my_dictionary = {\"my_key\": \"my_value\", \"apple\": 54, \"student\": True, 2:4}\n",
    "\n",
    "for t in my_dictionary.items():\n",
    "    print(t)"
   ]
  },
  {
   "cell_type": "markdown",
   "id": "3eeeaa4c-a68d-429c-a729-ae05d5727e78",
   "metadata": {},
   "source": [
    "**keys():** Deletes all the keys from the dictionary."
   ]
  },
  {
   "cell_type": "code",
   "execution_count": 40,
   "id": "28a43ab2-8f8b-462b-8111-be92ad155654",
   "metadata": {},
   "outputs": [
    {
     "data": {
      "text/plain": [
       "dict_keys(['my_key', 'apple', 'student', 2])"
      ]
     },
     "execution_count": 40,
     "metadata": {},
     "output_type": "execute_result"
    }
   ],
   "source": [
    "my_dictionary = {\"my_key\": \"my_value\", \"apple\": 54, \"student\": True, 2:4}\n",
    "\n",
    "my_dictionary.keys()"
   ]
  },
  {
   "cell_type": "markdown",
   "id": "dcfa9e69-8411-47e5-80ec-d5a7e54fd356",
   "metadata": {},
   "source": [
    "**pop():** Returns and deletes the value associated to the key."
   ]
  },
  {
   "cell_type": "code",
   "execution_count": 44,
   "id": "73c6fd85-ed5f-4219-a16d-8dba181ca5da",
   "metadata": {},
   "outputs": [
    {
     "data": {
      "text/plain": [
       "{'my_key': 'my_value', 'apple': 54, 2: 4}"
      ]
     },
     "execution_count": 44,
     "metadata": {},
     "output_type": "execute_result"
    }
   ],
   "source": [
    "my_dictionary = {\"my_key\": \"my_value\", \"apple\": 54, \"student\": True, 2:4}\n",
    "\n",
    "my_dictionary"
   ]
  },
  {
   "cell_type": "markdown",
   "id": "48a382cf-5b60-4e83-aea9-aa5436345acd",
   "metadata": {},
   "source": [
    "**popitem():** Deletes and returns a random tuple key-value."
   ]
  },
  {
   "cell_type": "code",
   "execution_count": 53,
   "id": "0c623b44-1945-4a56-9b8b-2e7f6dbf5386",
   "metadata": {},
   "outputs": [
    {
     "data": {
      "text/plain": [
       "{'my_key': 'my_value', 'apple': 54, 'student': True}"
      ]
     },
     "execution_count": 53,
     "metadata": {},
     "output_type": "execute_result"
    }
   ],
   "source": [
    "my_dictionary = {\"my_key\": \"my_value\", \"apple\": 54, \"student\": True, 2:4}\n",
    "\n",
    "my_dictionary.popitem()\n",
    "my_dictionary"
   ]
  },
  {
   "cell_type": "markdown",
   "id": "46864bb1-186f-4a6e-b1bd-04d29ab32f45",
   "metadata": {},
   "source": [
    "**values():** Returns a collection with all the values."
   ]
  },
  {
   "cell_type": "code",
   "execution_count": 59,
   "id": "55c4d2bc-ac81-416f-9b97-3649f1087c03",
   "metadata": {},
   "outputs": [
    {
     "name": "stdout",
     "output_type": "stream",
     "text": [
      "my_value\n",
      "54\n",
      "True\n",
      "4\n"
     ]
    }
   ],
   "source": [
    "my_dictionary = {\"my_key\": \"my_value\", \"apple\": 54, \"student\": True, 2:4}\n",
    "\n",
    "keys = my_dictionary.keys()\n",
    "values = my_dictionary.values()\n",
    "\n",
    "for value in values:\n",
    "    print(value)"
   ]
  },
  {
   "cell_type": "markdown",
   "id": "151b4901-b716-4d2f-95c8-dd46f077e102",
   "metadata": {},
   "source": [
    "**copy():** Returns a copy of the dictionary."
   ]
  },
  {
   "cell_type": "code",
   "execution_count": 61,
   "id": "2a7345df-7bfb-454c-92b2-8ead776b0197",
   "metadata": {},
   "outputs": [
    {
     "name": "stdout",
     "output_type": "stream",
     "text": [
      "{'my_key': 'my_value', 'apple': 54, 'student': True, 2: 4}\n",
      "{'my_key': 'my_value', 'apple': 30, 'student': True}\n"
     ]
    }
   ],
   "source": [
    "my_dictionary = {\"my_key\": \"my_value\", \"apple\": 54, \"student\": True, 2:4}\n",
    "\n",
    "copy_of_dict = my_dictionary.copy()\n",
    "copy_of_dict[\"apple\"] = 30\n",
    "\n",
    "copy_of_dict.popitem()\n",
    "\n",
    "print(my_dictionary)\n",
    "print(copy_of_dict)"
   ]
  },
  {
   "cell_type": "code",
   "execution_count": null,
   "id": "e9543eb5-2da5-4713-8f78-dad6a2d5b096",
   "metadata": {},
   "outputs": [],
   "source": []
  }
 ],
 "metadata": {
  "kernelspec": {
   "display_name": "Python 3",
   "language": "python",
   "name": "python3"
  },
  "language_info": {
   "codemirror_mode": {
    "name": "ipython",
    "version": 3
   },
   "file_extension": ".py",
   "mimetype": "text/x-python",
   "name": "python",
   "nbconvert_exporter": "python",
   "pygments_lexer": "ipython3",
   "version": "3.8.5"
  }
 },
 "nbformat": 4,
 "nbformat_minor": 5
}
