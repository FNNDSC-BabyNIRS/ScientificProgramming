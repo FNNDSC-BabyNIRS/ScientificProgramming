{
 "cells": [
  {
   "cell_type": "markdown",
   "id": "fa004488-6be4-4bfe-91df-b1ebdcca0c31",
   "metadata": {},
   "source": [
    "# Python Bootcamp \n",
    "## Session 06 - Data Structures II"
   ]
  },
  {
   "cell_type": "markdown",
   "id": "1b41fe16-39e5-4dd6-95ce-43184f8d4f5d",
   "metadata": {},
   "source": [
    "### Dictionary Operations\n",
    "\n",
    "Collection of data values of any type assigned to a key object.\n"
   ]
  },
  {
   "cell_type": "code",
   "execution_count": null,
   "id": "d5ad115c-ff97-4087-9c5d-65000ccacdbf",
   "metadata": {},
   "outputs": [],
   "source": [
    "my_dictionary = {\"my_key\": \"my_value\", \"apple\": 54, \"student\": True, 2:4}\n",
    "\n"
   ]
  },
  {
   "cell_type": "markdown",
   "id": "6ae9c498-65c9-463c-b6c5-17c7a951395f",
   "metadata": {},
   "source": [
    "Get a value from dictionary:"
   ]
  },
  {
   "cell_type": "code",
   "execution_count": null,
   "id": "6dd3c8b7-421b-4750-8e47-42f46b24a84d",
   "metadata": {},
   "outputs": [],
   "source": []
  },
  {
   "cell_type": "markdown",
   "id": "629701bc-8098-437c-a074-07dd6f938ae3",
   "metadata": {},
   "source": [
    "Update a value from dictionary"
   ]
  },
  {
   "cell_type": "code",
   "execution_count": null,
   "id": "3886eb0e-00cd-40a1-b5c1-834d628c7aeb",
   "metadata": {},
   "outputs": [],
   "source": []
  },
  {
   "cell_type": "markdown",
   "id": "a4ba2129-42d8-4f5c-a69e-10269531d222",
   "metadata": {},
   "source": [
    "Add a value to the dictionary"
   ]
  },
  {
   "cell_type": "code",
   "execution_count": null,
   "id": "1f026cba-f907-4ad9-8bdc-079b9b005b59",
   "metadata": {},
   "outputs": [],
   "source": []
  },
  {
   "cell_type": "markdown",
   "id": "e22cc740-100a-4392-8f55-1ffebb7f4c2d",
   "metadata": {},
   "source": [
    "**clear():** Deletes all the elements from the dictionary."
   ]
  },
  {
   "cell_type": "code",
   "execution_count": null,
   "id": "a4c78c6e-68bd-4dee-86a8-b1bc68625681",
   "metadata": {},
   "outputs": [],
   "source": [
    "my_dictionary = {\"my_key\": \"my_value\", \"apple\": 54, \"student\": True, 2:4}\n",
    "\n"
   ]
  },
  {
   "cell_type": "markdown",
   "id": "71987191-6ec9-438c-ac36-e3158e945184",
   "metadata": {},
   "source": [
    "**get():** Retrieves the value of the given key. If the key doesn't exist it doesn't generate an error, instead it returns None or a default value."
   ]
  },
  {
   "cell_type": "code",
   "execution_count": null,
   "id": "973002b8-8563-4b40-9f5b-38443e181fb4",
   "metadata": {},
   "outputs": [],
   "source": [
    "my_dictionary = {\"my_key\": \"my_value\", \"apple\": 54, \"student\": True, 2:4}\n",
    "\n"
   ]
  },
  {
   "cell_type": "markdown",
   "id": "a8c3e3e4-93ce-4b80-8660-6ee70136c62b",
   "metadata": {},
   "source": [
    "**items():** It returns a collection of tuples with the data from the dictionary."
   ]
  },
  {
   "cell_type": "code",
   "execution_count": null,
   "id": "f8ee4338-bb15-4c51-af6d-81d8c9346e0d",
   "metadata": {},
   "outputs": [],
   "source": [
    "my_dictionary = {\"my_key\": \"my_value\", \"apple\": 54, \"student\": True, 2:4}\n",
    "\n"
   ]
  },
  {
   "cell_type": "markdown",
   "id": "3eeeaa4c-a68d-429c-a729-ae05d5727e78",
   "metadata": {},
   "source": [
    "**keys():** Deletes all the keys from the dictionary."
   ]
  },
  {
   "cell_type": "code",
   "execution_count": null,
   "id": "28a43ab2-8f8b-462b-8111-be92ad155654",
   "metadata": {},
   "outputs": [],
   "source": [
    "my_dictionary = {\"my_key\": \"my_value\", \"apple\": 54, \"student\": True, 2:4}\n",
    "\n"
   ]
  },
  {
   "cell_type": "markdown",
   "id": "dcfa9e69-8411-47e5-80ec-d5a7e54fd356",
   "metadata": {},
   "source": [
    "**pop():** Returns and deletes the value associated to the key."
   ]
  },
  {
   "cell_type": "code",
   "execution_count": null,
   "id": "73c6fd85-ed5f-4219-a16d-8dba181ca5da",
   "metadata": {},
   "outputs": [],
   "source": [
    "my_dictionary = {\"my_key\": \"my_value\", \"apple\": 54, \"student\": True, 2:4}\n",
    "\n"
   ]
  },
  {
   "cell_type": "markdown",
   "id": "48a382cf-5b60-4e83-aea9-aa5436345acd",
   "metadata": {},
   "source": [
    "**popitem():** Deletes and returns a random tuple key-value."
   ]
  },
  {
   "cell_type": "code",
   "execution_count": null,
   "id": "0c623b44-1945-4a56-9b8b-2e7f6dbf5386",
   "metadata": {},
   "outputs": [],
   "source": [
    "my_dictionary = {\"my_key\": \"my_value\", \"apple\": 54, \"student\": True, 2:4}\n",
    "\n"
   ]
  },
  {
   "cell_type": "markdown",
   "id": "46864bb1-186f-4a6e-b1bd-04d29ab32f45",
   "metadata": {},
   "source": [
    "**values():** Returns a collection with all the values."
   ]
  },
  {
   "cell_type": "code",
   "execution_count": null,
   "id": "55c4d2bc-ac81-416f-9b97-3649f1087c03",
   "metadata": {},
   "outputs": [],
   "source": [
    "my_dictionary = {\"my_key\": \"my_value\", \"apple\": 54, \"student\": True, 2:4}\n",
    "\n"
   ]
  },
  {
   "cell_type": "markdown",
   "id": "151b4901-b716-4d2f-95c8-dd46f077e102",
   "metadata": {},
   "source": [
    "**copy():** Returns a copy of the dictionary."
   ]
  },
  {
   "cell_type": "code",
   "execution_count": null,
   "id": "2a7345df-7bfb-454c-92b2-8ead776b0197",
   "metadata": {},
   "outputs": [],
   "source": [
    "my_dictionary = {\"my_key\": \"my_value\", \"apple\": 54, \"student\": True, 2:4}\n",
    "\n",
    "\n"
   ]
  }
 ],
 "metadata": {
  "kernelspec": {
   "display_name": "Python 3",
   "language": "python",
   "name": "python3"
  },
  "language_info": {
   "codemirror_mode": {
    "name": "ipython",
    "version": 3
   },
   "file_extension": ".py",
   "mimetype": "text/x-python",
   "name": "python",
   "nbconvert_exporter": "python",
   "pygments_lexer": "ipython3",
   "version": "3.8.5"
  }
 },
 "nbformat": 4,
 "nbformat_minor": 5
}
