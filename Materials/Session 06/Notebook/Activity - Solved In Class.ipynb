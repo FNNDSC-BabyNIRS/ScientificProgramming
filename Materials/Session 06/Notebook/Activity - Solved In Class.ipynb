{
 "cells": [
  {
   "cell_type": "markdown",
   "id": "2c773697-c13f-4359-8672-29463e544938",
   "metadata": {},
   "source": [
    "# Python Bootcamp \n",
    "## Session 06 - Data Structures Activity"
   ]
  },
  {
   "cell_type": "code",
   "execution_count": 23,
   "id": "79c73d12-c302-46d2-9eed-f115ecebdc88",
   "metadata": {
    "jupyter": {
     "source_hidden": true
    },
    "tags": []
   },
   "outputs": [],
   "source": [
    "def test_palindromes():\n",
    "    for word in palindromes:\n",
    "        if is_palindrome(word) != True:\n",
    "            print(\"The word\", word, \"is not a palindrome!\")\n",
    "            return False\n",
    "    return True\n",
    "    \n",
    "def test_not_palindromes():\n",
    "    for word in not_palindromes:\n",
    "        if is_palindrome(word) != False:\n",
    "            print(\"The word\", word, \"is a palindrome!\")\n",
    "            return False\n",
    "    return True\n",
    "def test_activity_palindromes():\n",
    "    if test_palindromes() and test_not_palindromes():\n",
    "        print(\"Correct!\")\n",
    "        \n",
    "def test_roman_numerals():\n",
    "    int_numbers = [4, 2, 1, 6, 2, 2, 8, 1, 10, 3, 7, 5, 9]\n",
    "    roman_numbers = ['IV', 'II', 'I', 'VI', 'II', 'II', 'VIII', 'I', 'X', 'III', 'VII', 'V', 'IX']\n",
    "\n",
    "    result = convert_to_roman(int_numbers)\n",
    "\n",
    "    for i in range(0, len(result)):\n",
    "        if result[i] != roman_numbers[i]:\n",
    "            print(\"Your result was\", result[i], \"but the correct is\", roman_numbers[i])\n",
    "    print(\"Correct!\")\n",
    "    \n",
    "def test_anagram():\n",
    "    if is_anagram(\"cinema\", \"iceman\"):\n",
    "            print(\"Correct!\")\n",
    "    else:\n",
    "        print(\"The words cinema and iceman are anagrams!\" )\n",
    "    if is_anagram(\"cinema\", \"icecream\") == False:\n",
    "            print(\"Correct!\")\n",
    "    else:\n",
    "        print(\"The words cinema and icecream are not anagrams!\" )\n",
    "        \n",
    "    "
   ]
  },
  {
   "cell_type": "markdown",
   "id": "3e6d0375-5fdf-4fec-85bb-4679cc3b6141",
   "metadata": {},
   "source": [
    "### Palindromes\n",
    "\n",
    "A word, phrase, or sequence that reads the same backward as forward.\n"
   ]
  },
  {
   "cell_type": "code",
   "execution_count": 26,
   "id": "982ec6a9-1db5-4bb3-8fc3-a4fa288bfad2",
   "metadata": {},
   "outputs": [],
   "source": [
    "palindromes = [\"anna\", \"civic\", \"kayak\", \"level\", \"madam\", \"mom\", \"noon\", \"radar\"]\n",
    "\n",
    "not_palindromes = [\"baloon\", \"ice\", \"bee\", \"song\", \"pencil\", \"tv\", \"car\", \"flower\"]"
   ]
  },
  {
   "cell_type": "markdown",
   "id": "b8bb615e-74a0-4811-b829-9a8dc0eb4fa0",
   "metadata": {},
   "source": [
    "#### Activity: \n",
    "Write a function is_palindrome that receives a string representing a word and returns True if the input word is a palindrome, return False in the other case."
   ]
  },
  {
   "cell_type": "code",
   "execution_count": 21,
   "id": "856155f8-d23c-4db8-9dd7-8a999e2220dc",
   "metadata": {},
   "outputs": [],
   "source": [
    "def is_palindrome(word):\n",
    "    size = len(word)\n",
    "    \n",
    "    for i in range(0, int(size/2)):\n",
    "        if word[i] != word[size - 1 - i]:\n",
    "            return False\n",
    "    \n",
    "    return True"
   ]
  },
  {
   "cell_type": "code",
   "execution_count": 20,
   "id": "3a97d9e3-3736-44a2-84f2-99896364bd53",
   "metadata": {},
   "outputs": [
    {
     "name": "stdout",
     "output_type": "stream",
     "text": [
      "anna 4\n",
      "a 0 a 3\n",
      "n 1 n 2\n",
      "n 2 n 1\n",
      "a 3 a 0\n"
     ]
    }
   ],
   "source": [
    "string = \"anna\"\n",
    "size = len(string)\n",
    "\n",
    "print(string, size)\n",
    "\n",
    "for i in range(0, size):\n",
    "    print(string[i], i,string[size - 1 - i], size - 1 - i)"
   ]
  },
  {
   "cell_type": "code",
   "execution_count": null,
   "id": "e010fa0e-6b76-46c4-83a4-74afbab95d05",
   "metadata": {},
   "outputs": [],
   "source": [
    "\n",
    "\n",
    " a n n a\n",
    " 0 1 2 3\n",
    "\n"
   ]
  },
  {
   "cell_type": "code",
   "execution_count": 27,
   "id": "18f3bbf8-eb95-4936-b559-405c29b3f799",
   "metadata": {},
   "outputs": [
    {
     "name": "stdout",
     "output_type": "stream",
     "text": [
      "Correct!\n"
     ]
    }
   ],
   "source": [
    "test_activity_palindromes()"
   ]
  },
  {
   "cell_type": "markdown",
   "id": "f49537ee-cb83-40bb-a7e1-cc5a9b022a10",
   "metadata": {},
   "source": [
    "### Roman Numerals\n",
    "\n",
    "Number system developed in ancient Rome where letters represents numbers."
   ]
  },
  {
   "cell_type": "code",
   "execution_count": 32,
   "id": "0a3f9b06-da3c-4f5f-addc-84f9a565fca4",
   "metadata": {},
   "outputs": [],
   "source": [
    "roman_numerals = [\"I\", \"II\", \"III\", \"IV\", \"V\", \"VI\", \"VII\", \"VIII\", \"IX\", \"X\", \"XI\"]"
   ]
  },
  {
   "cell_type": "markdown",
   "id": "b2cd92df-bf14-4c5b-acbb-343f84afd015",
   "metadata": {},
   "source": [
    "#### Activity: \n",
    "Write a function **convert_to_roman** that receives a list of random integer numbers from 1 to 10 and returns a list of the same numbers as Roman Numerals."
   ]
  },
  {
   "cell_type": "code",
   "execution_count": null,
   "id": "2121ccc5-bfb3-4e5f-9b73-2c6a3224aced",
   "metadata": {},
   "outputs": [],
   "source": [
    "# Arrays\n",
    "\n",
    "roman_numerals = [\"I\", \"II\", \"III\", \"IV\", \"V\", \"VI\", \"VII\", \"VIII\", \"IX\", \"X\", \"XI\"]\n",
    "                   0     1     2      3     4    5     6       7      8    9    10"
   ]
  },
  {
   "cell_type": "code",
   "execution_count": 39,
   "id": "8f867778-9859-4c3f-a66a-3ce13431a89d",
   "metadata": {},
   "outputs": [],
   "source": [
    "def convert_to_roman(numbers):\n",
    "    roman = []\n",
    "    for n in numbers:\n",
    "        roman.append(roman_numerals[n-1])\n",
    "    return roman\n",
    "    "
   ]
  },
  {
   "cell_type": "code",
   "execution_count": 40,
   "id": "afaab007-0419-4627-b3d7-dae2e0ac82b1",
   "metadata": {},
   "outputs": [
    {
     "name": "stdout",
     "output_type": "stream",
     "text": [
      "Correct!\n"
     ]
    }
   ],
   "source": [
    "test_roman_numerals()"
   ]
  },
  {
   "cell_type": "markdown",
   "id": "1a573084-bf0b-445c-a4de-cb61a2500fe5",
   "metadata": {},
   "source": [
    "### Anagrams\n",
    "\n",
    "A word or phrase formed by rearraging the letters of another."
   ]
  },
  {
   "cell_type": "code",
   "execution_count": null,
   "id": "273152ab-23b6-4690-8b3e-5822c330edd4",
   "metadata": {},
   "outputs": [],
   "source": [
    "word = \"cinema\"\n",
    "anagram = \"iceman\"\n",
    "\n",
    "c c\n",
    "i i\n",
    "n n\n",
    "e e\n",
    "m m \n",
    "a a\n"
   ]
  },
  {
   "cell_type": "markdown",
   "id": "cd422b7a-28b6-41a8-86eb-f01ec88d1fd8",
   "metadata": {},
   "source": [
    "#### Activity: \n",
    "Write a function **is_anagram** that verifies if the two received words are anagrams."
   ]
  },
  {
   "cell_type": "code",
   "execution_count": null,
   "id": "dfec9975-20a1-4e9c-9d42-1674dda198e1",
   "metadata": {},
   "outputs": [],
   "source": []
  },
  {
   "cell_type": "code",
   "execution_count": null,
   "id": "92b18265-1afc-4dc4-9d3f-6e6940a54a1d",
   "metadata": {},
   "outputs": [],
   "source": [
    "test_anagram()"
   ]
  }
 ],
 "metadata": {
  "kernelspec": {
   "display_name": "Python 3",
   "language": "python",
   "name": "python3"
  },
  "language_info": {
   "codemirror_mode": {
    "name": "ipython",
    "version": 3
   },
   "file_extension": ".py",
   "mimetype": "text/x-python",
   "name": "python",
   "nbconvert_exporter": "python",
   "pygments_lexer": "ipython3",
   "version": "3.8.5"
  }
 },
 "nbformat": 4,
 "nbformat_minor": 5
}
