{
 "cells": [
  {
   "cell_type": "markdown",
   "id": "bfc6684e-2d9d-441d-b4f2-6ff30aa70240",
   "metadata": {},
   "source": [
    "# Git Activity\n"
   ]
  },
  {
   "cell_type": "markdown",
   "id": "c93d9eca-f140-424f-ba8b-4a023d4d4df9",
   "metadata": {},
   "source": [
    "### Course Repository\n",
    "---"
   ]
  },
  {
   "cell_type": "markdown",
   "id": "1382e400-1a79-4355-944d-4b24f3532b42",
   "metadata": {},
   "source": [
    "#### 1) Clone the Repository **\n",
    "\n",
    "We'll retrieve the entire repositoy from a hosted location with the Github URL\n",
    "\n",
    "\n",
    "**! git clone https://github.com/FNNDSC-BabyNIRS/ScientificProgramming**"
   ]
  },
  {
   "cell_type": "code",
   "execution_count": null,
   "id": "211e33d6-2aa4-43b4-95ce-0ac1881e176c",
   "metadata": {},
   "outputs": [],
   "source": []
  },
  {
   "cell_type": "markdown",
   "id": "0947fcb7-d54e-45ba-8d9c-05c1d2a4e191",
   "metadata": {},
   "source": [
    "#### 2) Check Status and Pull Changes\n",
    "\n",
    "We'll verify if there are new updates of a shared repository. If so, we'll retieve the changes with the following command:\n",
    "\n",
    "\n",
    "**! git pull**"
   ]
  },
  {
   "cell_type": "code",
   "execution_count": null,
   "id": "1eb04ae7-5db4-41c2-a27f-daf6e49cd58b",
   "metadata": {},
   "outputs": [],
   "source": []
  }
 ],
 "metadata": {
  "kernelspec": {
   "display_name": "Python 3",
   "language": "python",
   "name": "python3"
  },
  "language_info": {
   "codemirror_mode": {
    "name": "ipython",
    "version": 3
   },
   "file_extension": ".py",
   "mimetype": "text/x-python",
   "name": "python",
   "nbconvert_exporter": "python",
   "pygments_lexer": "ipython3",
   "version": "3.8.5"
  }
 },
 "nbformat": 4,
 "nbformat_minor": 5
}
