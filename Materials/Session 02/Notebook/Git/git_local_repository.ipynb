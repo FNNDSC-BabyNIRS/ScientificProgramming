{
 "cells": [
  {
   "cell_type": "markdown",
   "id": "bfc6684e-2d9d-441d-b4f2-6ff30aa70240",
   "metadata": {},
   "source": [
    "# Git Activity\n",
    "\n",
    "### Local Repository\n",
    "---"
   ]
  },
  {
   "cell_type": "markdown",
   "id": "6dc60dd8-58e2-49af-84c8-31ced8c7973a",
   "metadata": {},
   "source": [
    "\n",
    "#### 0) Set Up\n",
    "\n",
    "We'll configure the user information for our local repositories with the following commands.\n",
    "\n",
    "\n",
    "**! git config --global user.name \"[firstname lastname]\"**\n"
   ]
  },
  {
   "cell_type": "code",
   "execution_count": null,
   "id": "6ceb1009-9441-4236-b396-683158fa9b01",
   "metadata": {},
   "outputs": [],
   "source": []
  },
  {
   "cell_type": "markdown",
   "id": "fdff4b50-3c55-4f77-9b3e-3fe4440fc020",
   "metadata": {},
   "source": [
    "\n",
    "\n",
    "**! git config --global user.email \"[email]\"**\n"
   ]
  },
  {
   "cell_type": "code",
   "execution_count": null,
   "id": "be09b1e3-ea29-411a-bb0c-cac30186d0d2",
   "metadata": {},
   "outputs": [],
   "source": []
  },
  {
   "cell_type": "markdown",
   "id": "b54f6b55-e663-462e-b6b7-0188ce1b4415",
   "metadata": {},
   "source": [
    "\n",
    "#### 1) Create your own repository!\n",
    "\n",
    "Write the following command where name stands for the folder to create:\n",
    "\n",
    "**! git init [repository_name]**\n",
    "\n",
    "Example:\n",
    "\n",
    "**! git init PythonBootcamp_Activities**\n"
   ]
  },
  {
   "cell_type": "code",
   "execution_count": null,
   "id": "79d5e374-391f-4351-8801-45f3b7a51bec",
   "metadata": {},
   "outputs": [],
   "source": []
  },
  {
   "cell_type": "markdown",
   "id": "d5b90169-07b5-41b9-af99-e4126118d038",
   "metadata": {},
   "source": [
    "Look at the directory bar on the left, a new folder was created with the same name you wrote.\n",
    "\n",
    "**Note:** If you can't see it, click on reload.\n"
   ]
  },
  {
   "cell_type": "markdown",
   "id": "95ab954f-8c55-4034-a9a9-3b4dcee739ca",
   "metadata": {},
   "source": [
    "#### 2) Add the notebook from the first session to the created folder.\n",
    "\n",
    "This will allow you to track your progress during the course. You can click and drop the file inside the folder.\n",
    "\n",
    "#### 3) Watch the directory status\n",
    "Show the modified files in working directory, staged for your next commit. Write the following command:\n",
    "\n",
    "**! git status**"
   ]
  },
  {
   "cell_type": "code",
   "execution_count": null,
   "id": "858ec057-2d06-496e-852b-4990eb595a24",
   "metadata": {},
   "outputs": [],
   "source": []
  },
  {
   "cell_type": "markdown",
   "id": "aa777baf-9bec-4bc8-ab6b-ca1aa974d38f",
   "metadata": {},
   "source": [
    "#### 4) Add files to repository\n",
    "\n",
    "Add a file as it looks now to your next commit. Write the following command:\n",
    "\n",
    "**! git add [file_name]**\n",
    "\n",
    "Example:\n",
    "\n",
    "* **! git add 01_Python_Bootcamp.ipynb**\n",
    "\n",
    "Note: You can also add **all the files** that were updated with the following command.\n",
    "\n",
    "**! git add .**\n"
   ]
  },
  {
   "cell_type": "code",
   "execution_count": null,
   "id": "29983838-8d9d-4e5d-9bcf-d66a95a4f023",
   "metadata": {},
   "outputs": [],
   "source": []
  },
  {
   "cell_type": "markdown",
   "id": "0b7291e3-1bcd-493a-8495-6783a580e929",
   "metadata": {},
   "source": [
    "Let's look again at the current **status of the repository**:"
   ]
  },
  {
   "cell_type": "code",
   "execution_count": null,
   "id": "794ceae8-6048-47ce-8c98-47420cb3a6f3",
   "metadata": {},
   "outputs": [],
   "source": []
  },
  {
   "cell_type": "markdown",
   "id": "060c04af-0f53-47e2-a7b5-2f2e7ff2b0d7",
   "metadata": {},
   "source": [
    "The files are ready to be commited!"
   ]
  },
  {
   "cell_type": "markdown",
   "id": "45ac152d-3030-40b2-b8c7-97bb2f786707",
   "metadata": {},
   "source": [
    "#### 5) Commit staged content\n",
    "\n",
    "Now that the content was staged. We'll make a new commit of that specific snapshot. Write the \n",
    "\n",
    "**! git commit -m \"[descriptive message]\"**\n",
    "\n",
    "Example:\n",
    "\n",
    "**! git commit -m \"First Session Solved Notebook\"**\n"
   ]
  },
  {
   "cell_type": "code",
   "execution_count": null,
   "id": "414230cc-1d33-4f86-a003-96e1f82eaad9",
   "metadata": {},
   "outputs": [],
   "source": []
  }
 ],
 "metadata": {
  "kernelspec": {
   "display_name": "Python 3",
   "language": "python",
   "name": "python3"
  },
  "language_info": {
   "codemirror_mode": {
    "name": "ipython",
    "version": 3
   },
   "file_extension": ".py",
   "mimetype": "text/x-python",
   "name": "python",
   "nbconvert_exporter": "python",
   "pygments_lexer": "ipython3",
   "version": "3.8.5"
  }
 },
 "nbformat": 4,
 "nbformat_minor": 5
}
