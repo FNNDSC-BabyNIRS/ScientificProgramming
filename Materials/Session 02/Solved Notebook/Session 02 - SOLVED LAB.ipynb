{
 "cells": [
  {
   "cell_type": "markdown",
   "id": "bdd3b450-4003-41e7-9a33-52c0de7f72fc",
   "metadata": {},
   "source": [
    "# Python Bootcamp \n",
    "## Session 02 - Laboratory"
   ]
  },
  {
   "attachments": {
    "03fb5ce8-3072-4c23-96e5-feb4bd640b93.png": {
     "image/png": "[encoded data removed]"
    }
   },
   "cell_type": "markdown",
   "id": "386efbfa-315b-44ff-bf94-0089fba75854",
   "metadata": {},
   "source": [
    "Find *x1* and *x2* given the coefficients *a, b* and *c* using the quadratic formula.\n",
    "\n",
    "![image.png](attachment:03fb5ce8-3072-4c23-96e5-feb4bd640b93.png)"
   ]
  },
  {
   "cell_type": "code",
   "execution_count": 1,
   "id": "1a25d0c0-4e93-4483-bbe3-4cdd8fc10ae7",
   "metadata": {},
   "outputs": [],
   "source": [
    "a = 2\n",
    "b = 3\n",
    "c = -4"
   ]
  },
  {
   "attachments": {
    "65f8073d-4cf2-4483-be8b-a4fe8e259c89.png": {
     "image/png": "[encoded data removed]"
    }
   },
   "cell_type": "markdown",
   "id": "f8914208-a1f6-4842-bf74-48eb11ac2600",
   "metadata": {},
   "source": [
    "![image.png](attachment:65f8073d-4cf2-4483-be8b-a4fe8e259c89.png)\n",
    "\n",
    "#### Solution:"
   ]
  },
  {
   "cell_type": "code",
   "execution_count": 2,
   "id": "b9779b9b-d8c5-4e91-bf26-f6fe221c898e",
   "metadata": {},
   "outputs": [],
   "source": [
    "x1 = (- b + ((b ** 2) - (4 * a * c))**0.5) / (2 * a)\n",
    "x2 = (- b - ((b ** 2) - (4 * a * c))**0.5) / (2 * a)"
   ]
  },
  {
   "cell_type": "markdown",
   "id": "8673a468-af6d-45e0-9fee-64397c311eea",
   "metadata": {},
   "source": [
    "#### The correct answer is:\n",
    "* x1 = 0.8507810593582121\n",
    "* x2 = -2.350781059358212\n",
    "\n",
    "\n",
    "#### Your answer is:"
   ]
  },
  {
   "cell_type": "code",
   "execution_count": 3,
   "id": "8ef543c4-e874-4c89-afa6-a3a07872731c",
   "metadata": {},
   "outputs": [
    {
     "name": "stdout",
     "output_type": "stream",
     "text": [
      "x1 = 0.8507810593582121\n",
      "x2 = -2.350781059358212\n"
     ]
    }
   ],
   "source": [
    "print(\"x1 =\", x1)\n",
    "print(\"x2 =\", x2)"
   ]
  },
  {
   "cell_type": "markdown",
   "id": "7f4cb59b-d653-46b0-b6b0-6049b0cc2fda",
   "metadata": {},
   "source": [
    "\n",
    "### Write a new version of the previous program that follows the guidelines:\n",
    "* Must call a function named **findX** that recieves **a**, **b**, **c** and returns **x1** and **x2**\n",
    "* Must be reusable\n",
    "* Must be efficient\n",
    "* Must be easy to read"
   ]
  },
  {
   "cell_type": "code",
   "execution_count": 4,
   "id": "9cd738e0-5efd-4e1d-8e68-d4dd3ff84783",
   "metadata": {},
   "outputs": [],
   "source": [
    "def getSquared(value):\n",
    "    return value ** 2\n",
    "\n",
    "def getSqRoot(value):\n",
    "    return value ** 0.5\n",
    "\n",
    "def findX(a, b, c):\n",
    "    squared_root = getSqRoot(getSquared(b) - (4 * a * c))\n",
    "    denominator = (2 * a)\n",
    "    \n",
    "    x1 = (- b + squared_root) / denominator\n",
    "    x2 = (- b - squared_root) / denominator\n",
    "    \n",
    "    return x1, x2\n",
    "\n",
    "x1, x2 = findX(a, b, c)"
   ]
  },
  {
   "cell_type": "markdown",
   "id": "8cc657d0-781a-4898-9a5d-10fed15c391b",
   "metadata": {},
   "source": [
    "#### Test your program"
   ]
  },
  {
   "cell_type": "code",
   "execution_count": 5,
   "id": "1c4f4124-15c3-4d5a-98c2-699956ccefad",
   "metadata": {},
   "outputs": [
    {
     "name": "stdout",
     "output_type": "stream",
     "text": [
      "x1 = 0.8507810593582121\n",
      "x2 = -2.350781059358212\n"
     ]
    }
   ],
   "source": [
    "print(\"x1 =\", x1)\n",
    "print(\"x2 =\", x2)"
   ]
  },
  {
   "cell_type": "markdown",
   "id": "93ae218d-1db4-4aa6-a79d-c489cefc6c45",
   "metadata": {},
   "source": [
    "### Lets make it interactive\n",
    "* Reusing the findX function, create a program that allows the users to try their own inputs\n",
    "* Print with a format the results for x1 and x2"
   ]
  },
  {
   "cell_type": "code",
   "execution_count": 6,
   "id": "66660336-19e3-4db8-ab8c-9d068a625c1f",
   "metadata": {},
   "outputs": [],
   "source": [
    "def printResults(x1, x2):\n",
    "    print(\"\\nRESULTS:\")\n",
    "    print(\"x1 =\", x1)\n",
    "    print(\"x2 =\", x2)\n",
    "\n",
    "def read_users_inputs():\n",
    "    a = float(input(\"\\nEnter the a coefficient: \"))\n",
    "    b = float(input(\"Enter the b coefficient: \"))\n",
    "    c = float(input(\"Enter the c coefficient: \"))\n",
    "    return a, b, c\n",
    "\n",
    "def findXFromInput():\n",
    "    a, b, c = read_users_inputs()\n",
    "    x1, x2 = findX(a, b, c)\n",
    "    printResults(x1, x2)"
   ]
  },
  {
   "cell_type": "markdown",
   "id": "9c7e3a3d-9890-4cba-8700-1f3de7273f54",
   "metadata": {},
   "source": [
    "#### Test your program"
   ]
  },
  {
   "cell_type": "code",
   "execution_count": 7,
   "id": "2f026a0f-7112-4dd3-9c0c-191abfc74883",
   "metadata": {},
   "outputs": [
    {
     "name": "stdin",
     "output_type": "stream",
     "text": [
      "\n",
      "Enter the a coefficient:  2\n",
      "Enter the b coefficient:  3\n",
      "Enter the c coefficient:  -4\n"
     ]
    },
    {
     "name": "stdout",
     "output_type": "stream",
     "text": [
      "\n",
      "RESULTS:\n",
      "x1 = 0.8507810593582121\n",
      "x2 = -2.350781059358212\n"
     ]
    }
   ],
   "source": [
    "findXFromInput()"
   ]
  },
  {
   "cell_type": "markdown",
   "id": "a283680d-0eba-46ad-b716-3aad25ee5726",
   "metadata": {},
   "source": [
    "### Only once?\n",
    "* Users may want find the x1 and x2 from more than once equation. Let's ask them!\n",
    "* If they want to try again, they can do it."
   ]
  },
  {
   "cell_type": "code",
   "execution_count": null,
   "id": "e9ffc2bd-2e92-40b9-be8f-3612fdf06082",
   "metadata": {},
   "outputs": [],
   "source": [
    "def main():\n",
    "    again = \"y\"\n",
    "    \n",
    "    while(again == \"y\"):\n",
    "        findXFromInput()\n",
    "        again = str(input(\"\\nDo you want to find x1 and x2 from another quadratic equation? [y/n]\\n\"))"
   ]
  },
  {
   "cell_type": "code",
   "execution_count": null,
   "id": "cd1951cd-97f4-4fbd-8fd0-f96858358108",
   "metadata": {},
   "outputs": [],
   "source": [
    "main()"
   ]
  }
 ],
 "metadata": {
  "kernelspec": {
   "display_name": "Python 3",
   "language": "python",
   "name": "python3"
  },
  "language_info": {
   "codemirror_mode": {
    "name": "ipython",
    "version": 3
   },
   "file_extension": ".py",
   "mimetype": "text/x-python",
   "name": "python",
   "nbconvert_exporter": "python",
   "pygments_lexer": "ipython3",
   "version": "3.8.5"
  }
 },
 "nbformat": 4,
 "nbformat_minor": 5
}
