{
 "cells": [
  {
   "cell_type": "markdown",
   "id": "05fd3e79-294a-4c4f-b454-df7420920448",
   "metadata": {},
   "source": [
    "# Python Bootcamp \n",
    "## Session 08 - Mini Project"
   ]
  },
  {
   "cell_type": "markdown",
   "id": "4ed8db0d-9ae8-446e-aacb-a407f096529f",
   "metadata": {},
   "source": [
    "### Top 10 most populated countries\n",
    "\n",
    "Create a program that reads the file **list_of_countries.txt** and calculate the percentage of population for each country from all the listed countries. Consider the total as the sum of all the populations. \n",
    "\n",
    "Take a look at the expected output:"
   ]
  },
  {
   "cell_type": "code",
   "execution_count": 21,
   "id": "ff7856ce-db10-4b24-8cbb-d0f50c848ae6",
   "metadata": {},
   "outputs": [
    {
     "name": "stdout",
     "output_type": "stream",
     "text": [
      "China - 31.25 %\n",
      "India - 30.66 %\n",
      "United States - 7.37 %\n",
      "Indonesia - 6.11 %\n",
      "Pakistan - 5.29 %\n",
      "Nigeria - 4.87 %\n",
      "Brazil - 4.79 %\n",
      "Bangladesh - 3.64 %\n",
      "Russia - 3.16 %\n",
      "Mexico - 2.85 %\n",
      "----------------------\n",
      "Top 10 total population: 4503373919\n"
     ]
    }
   ],
   "source": [
    "file = open(\"list_of_countries.txt\")\n",
    "content = file.readlines()\n",
    "\n",
    "countries = {}\n",
    "total_pop = 0\n",
    "for c in content:\n",
    "    line = c.split(\". \")\n",
    "    population = int(c.split()[-1])\n",
    "    country = \" \".join(c.split()[1:-1])\n",
    "    total_pop += population\n",
    "    countries[country] = population\n",
    "    \n",
    "for k in countries:\n",
    "    print(k, \"-\", \"{:.2f} %\".format(countries[k]/total_pop * 100))\n",
    "    \n",
    "print(\"----------------------\")\n",
    "print(\"Top 10 total population:\", total_pop)"
   ]
  },
  {
   "cell_type": "markdown",
   "id": "e6858092-0790-45e8-aa5f-16bd990b6a8c",
   "metadata": {},
   "source": [
    "### Expected result"
   ]
  },
  {
   "cell_type": "code",
   "execution_count": 1,
   "id": "6cb8f42a-3819-45d6-956d-a89cc0baff1b",
   "metadata": {},
   "outputs": [
    {
     "name": "stdout",
     "output_type": "stream",
     "text": [
      "China - 31.25 %\n",
      "India - 30.66 %\n",
      "United States - 7.37 %\n",
      "Indonesia - 6.11 %\n",
      "Pakistan - 5.29 %\n",
      "Nigeria - 4.87 %\n",
      "Brazil - 4.79 %\n",
      "Bangladesh - 3.64 %\n",
      "Russia - 3.16 %\n",
      "Mexico - 2.85 %\n",
      "----------------------\n",
      "Top 10 total population: 4503373919\n"
     ]
    }
   ],
   "source": [
    "print(\"China - 31.25 %\\nIndia - 30.66 %\\nUnited States - 7.37 %\\nIndonesia - 6.11 %\\nPakistan - 5.29 %\\nNigeria - 4.87 %\\nBrazil - 4.79 %\\nBangladesh - 3.64 %\\nRussia - 3.16 %\\nMexico - 2.85 %\\n----------------------\\nTop 10 total population: 4503373919\")"
   ]
  }
 ],
 "metadata": {
  "kernelspec": {
   "display_name": "Python 3 (ipykernel)",
   "language": "python",
   "name": "python3"
  },
  "language_info": {
   "codemirror_mode": {
    "name": "ipython",
    "version": 3
   },
   "file_extension": ".py",
   "mimetype": "text/x-python",
   "name": "python",
   "nbconvert_exporter": "python",
   "pygments_lexer": "ipython3",
   "version": "3.8.5"
  }
 },
 "nbformat": 4,
 "nbformat_minor": 5
}
