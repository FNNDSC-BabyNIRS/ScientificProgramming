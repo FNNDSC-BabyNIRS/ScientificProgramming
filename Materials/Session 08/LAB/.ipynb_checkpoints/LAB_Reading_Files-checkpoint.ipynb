{
 "cells": [
  {
   "cell_type": "markdown",
   "id": "8c462588-f389-426e-9a82-8bfbc287caeb",
   "metadata": {},
   "source": [
    "# Python Bootcamp \n",
    "## Session 08 - Reading Files"
   ]
  },
  {
   "cell_type": "markdown",
   "id": "ab258576-91bb-416d-ad84-c15f7a8c0750",
   "metadata": {},
   "source": [
    "### Opening / Closing the file"
   ]
  },
  {
   "cell_type": "code",
   "execution_count": 7,
   "id": "d6b02330-246a-49bd-873d-e6abfa16504c",
   "metadata": {},
   "outputs": [],
   "source": [
    "file = open(\"Files/cute_animals.txt\")\n",
    "#file.close()"
   ]
  },
  {
   "cell_type": "markdown",
   "id": "4a81cd55-52f3-4948-babb-cedc9cc5b961",
   "metadata": {},
   "source": [
    "### Reading data from the file\n",
    "#### File as a string"
   ]
  },
  {
   "cell_type": "markdown",
   "id": "ddd7c975-6a16-4048-a948-b040d830adfb",
   "metadata": {},
   "source": [
    "Read all the file"
   ]
  },
  {
   "cell_type": "code",
   "execution_count": 14,
   "id": "9b3ba0e6-a86c-487a-8a05-cdbcf6c14dce",
   "metadata": {},
   "outputs": [
    {
     "data": {
      "text/plain": [
       "'Margay\\nRed Panda\\nElephant Shrew\\nFlapjack Octopus\\nFennec Fox\\nNumbat\\nJapanese weasel\\n'"
      ]
     },
     "execution_count": 14,
     "metadata": {},
     "output_type": "execute_result"
    }
   ],
   "source": [
    "file = open(\"Files/cute_animals.txt\")\n",
    "content = file.read()\n",
    "file.close()\n",
    "content"
   ]
  },
  {
   "cell_type": "markdown",
   "id": "e2fb28e1-ac48-4b34-9672-08f411c11f2a",
   "metadata": {},
   "source": [
    "Read n characters from the file"
   ]
  },
  {
   "cell_type": "code",
   "execution_count": 17,
   "id": "3e719d99-c22e-423c-9d9f-770e950d8b64",
   "metadata": {},
   "outputs": [
    {
     "data": {
      "text/plain": [
       "'Margay\\nRed'"
      ]
     },
     "execution_count": 17,
     "metadata": {},
     "output_type": "execute_result"
    }
   ],
   "source": [
    "file = open(\"Files/cute_animals.txt\")\n",
    "content = file.read(10)\n",
    "file.close()\n",
    "content"
   ]
  },
  {
   "cell_type": "markdown",
   "id": "662269ce-33a3-43c1-a64d-193da841a0df",
   "metadata": {},
   "source": [
    "#### File as an array"
   ]
  },
  {
   "cell_type": "markdown",
   "id": "76068eb0-1458-4aba-a4f6-459b05de4ef3",
   "metadata": {},
   "source": [
    "Read one line from the file"
   ]
  },
  {
   "cell_type": "code",
   "execution_count": 18,
   "id": "54a4c010-c7c6-4d23-b95b-7826423d64c1",
   "metadata": {},
   "outputs": [
    {
     "data": {
      "text/plain": [
       "'Margay\\n'"
      ]
     },
     "execution_count": 18,
     "metadata": {},
     "output_type": "execute_result"
    }
   ],
   "source": [
    "file = open(\"Files/cute_animals.txt\")\n",
    "content = file.readline()\n",
    "file.close()\n",
    "content"
   ]
  },
  {
   "cell_type": "markdown",
   "id": "e788bf25-caff-4d11-ab2c-e91e68fa1705",
   "metadata": {},
   "source": [
    "Read as array of strings"
   ]
  },
  {
   "cell_type": "code",
   "execution_count": 19,
   "id": "acb5b097-af67-42d7-bbbb-2f4b0e9ffe21",
   "metadata": {},
   "outputs": [
    {
     "data": {
      "text/plain": [
       "['Margay\\n',\n",
       " 'Red Panda\\n',\n",
       " 'Elephant Shrew\\n',\n",
       " 'Flapjack Octopus\\n',\n",
       " 'Fennec Fox\\n',\n",
       " 'Numbat\\n',\n",
       " 'Japanese weasel\\n']"
      ]
     },
     "execution_count": 19,
     "metadata": {},
     "output_type": "execute_result"
    }
   ],
   "source": [
    "file = open(\"Files/cute_animals.txt\")\n",
    "content = file.readlines()\n",
    "file.close()\n",
    "content"
   ]
  },
  {
   "cell_type": "markdown",
   "id": "60dad04d-9a04-447e-9005-a5c8542177ee",
   "metadata": {},
   "source": [
    "### Writing data into a file"
   ]
  },
  {
   "cell_type": "markdown",
   "id": "7f94f5cc-9516-40dd-9b3f-7c7e2368a0b4",
   "metadata": {},
   "source": [
    "Write a string into a file"
   ]
  },
  {
   "cell_type": "code",
   "execution_count": 34,
   "id": "84de0b63-bfb7-4b9a-b40f-394f29f786c4",
   "metadata": {},
   "outputs": [
    {
     "data": {
      "text/plain": [
       "8"
      ]
     },
     "execution_count": 34,
     "metadata": {},
     "output_type": "execute_result"
    }
   ],
   "source": [
    "new_file = open(\"Files/goodbye.txt\", \"w\")\n",
    "text_to_write = \"goodby!!\"\n",
    "new_file.write(text_to_write)\n"
   ]
  },
  {
   "cell_type": "markdown",
   "id": "3e63f629-2ee7-4399-a5ba-7fa6cfe47c0d",
   "metadata": {},
   "source": [
    "Write an array into a file"
   ]
  },
  {
   "cell_type": "code",
   "execution_count": 35,
   "id": "0255b42a-c89b-4783-b996-323b0982bf1c",
   "metadata": {},
   "outputs": [],
   "source": [
    "new_file = open(\"Files/goodbye.txt\", \"w\")\n",
    "array_to_write = [\"Goodbye\", \" everyone!!\"]\n",
    "new_file.writelines(array_to_write)\n",
    "new_file.close()"
   ]
  },
  {
   "cell_type": "markdown",
   "id": "c055e7cb-b6ec-47e9-9b16-d6f07c20694e",
   "metadata": {},
   "source": [
    "### Processing data"
   ]
  },
  {
   "cell_type": "markdown",
   "id": "ca385596-b257-45d2-ba0c-14105688c7ef",
   "metadata": {},
   "source": [
    "String"
   ]
  },
  {
   "cell_type": "code",
   "execution_count": 46,
   "id": "26740b22-731d-4d95-896a-ac071c767aa4",
   "metadata": {},
   "outputs": [
    {
     "data": {
      "text/plain": [
       "['Margay',\n",
       " 'Red Panda',\n",
       " 'Elephant Shrew',\n",
       " 'Flapjack Octopus',\n",
       " 'Fennec Fox',\n",
       " 'Numbat',\n",
       " 'Japanese weasel',\n",
       " '']"
      ]
     },
     "execution_count": 46,
     "metadata": {},
     "output_type": "execute_result"
    }
   ],
   "source": [
    "file = open(\"Files/cute_animals.txt\")\n",
    "content = file.read()\n",
    "file.close()\n",
    "content\n",
    "\n",
    "content.split(\"\\n\")"
   ]
  },
  {
   "cell_type": "markdown",
   "id": "6aebdf1c-ba64-41ca-8529-94683bfaa4dd",
   "metadata": {},
   "source": [
    "Array"
   ]
  },
  {
   "cell_type": "code",
   "execution_count": 53,
   "id": "92ddaf69-b234-4d56-a6c3-93adddbd42d9",
   "metadata": {},
   "outputs": [
    {
     "data": {
      "text/plain": [
       "['Margay',\n",
       " 'Red Panda',\n",
       " 'Elephant Shrew',\n",
       " 'Flapjack Octopus',\n",
       " 'Fennec Fox',\n",
       " 'Numbat',\n",
       " 'Japanese weasel']"
      ]
     },
     "execution_count": 53,
     "metadata": {},
     "output_type": "execute_result"
    }
   ],
   "source": [
    "file = open(\"Files/cute_animals.txt\")\n",
    "content = file.readlines()\n",
    "file.close()\n",
    "\n",
    "[x.split(\"\\n\")[0] for x in content]"
   ]
  },
  {
   "cell_type": "code",
   "execution_count": 56,
   "id": "2b8aa78a-7e32-4ff6-b945-a7022ad2bf8f",
   "metadata": {},
   "outputs": [
    {
     "data": {
      "text/plain": [
       "'Hello Luis! How are you doing'"
      ]
     },
     "execution_count": 56,
     "metadata": {},
     "output_type": "execute_result"
    }
   ],
   "source": [
    "\"Hello Luis! How are you doing\""
   ]
  },
  {
   "cell_type": "code",
   "execution_count": 57,
   "id": "183f31a2-af31-4b2a-b3fa-198fdbcb8b2e",
   "metadata": {},
   "outputs": [
    {
     "data": {
      "text/plain": [
       "['Hello', 'Luis!', 'How', 'are', 'you', 'doing']"
      ]
     },
     "execution_count": 57,
     "metadata": {},
     "output_type": "execute_result"
    }
   ],
   "source": [
    "\"Hello Luis! How are you doing\".split()"
   ]
  },
  {
   "cell_type": "code",
   "execution_count": 58,
   "id": "36254b1a-c994-44ec-bb80-dff135067e21",
   "metadata": {},
   "outputs": [
    {
     "data": {
      "text/plain": [
       "['Hell', ' Luis! H', 'w are y', 'u d', 'ing']"
      ]
     },
     "execution_count": 58,
     "metadata": {},
     "output_type": "execute_result"
    }
   ],
   "source": [
    "\"Hello Luis! How are you doing\".split(\"o\")"
   ]
  },
  {
   "cell_type": "code",
   "execution_count": 59,
   "id": "35966d1d-5640-4b2c-ae30-0582f2ad7913",
   "metadata": {},
   "outputs": [
    {
     "data": {
      "text/plain": [
       "['Hello Luis! ', ' you doing']"
      ]
     },
     "execution_count": 59,
     "metadata": {},
     "output_type": "execute_result"
    }
   ],
   "source": [
    "\"Hello Luis! ,  you doing\".split(\"How are\")"
   ]
  },
  {
   "cell_type": "code",
   "execution_count": null,
   "id": "d4c9a871-9d4b-4ca7-b3ef-f649bf9c2cb5",
   "metadata": {},
   "outputs": [],
   "source": []
  }
 ],
 "metadata": {
  "kernelspec": {
   "display_name": "Python 3 (ipykernel)",
   "language": "python",
   "name": "python3"
  },
  "language_info": {
   "codemirror_mode": {
    "name": "ipython",
    "version": 3
   },
   "file_extension": ".py",
   "mimetype": "text/x-python",
   "name": "python",
   "nbconvert_exporter": "python",
   "pygments_lexer": "ipython3",
   "version": "3.8.5"
  }
 },
 "nbformat": 4,
 "nbformat_minor": 5
}
