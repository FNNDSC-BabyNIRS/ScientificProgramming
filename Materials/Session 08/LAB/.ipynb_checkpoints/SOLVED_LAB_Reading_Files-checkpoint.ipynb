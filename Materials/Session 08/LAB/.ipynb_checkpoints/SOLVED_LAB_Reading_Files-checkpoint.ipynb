{
 "cells": [
  {
   "cell_type": "markdown",
   "id": "8c462588-f389-426e-9a82-8bfbc287caeb",
   "metadata": {},
   "source": [
    "# Python Bootcamp \n",
    "## Session 08 - Reading Files"
   ]
  },
  {
   "cell_type": "markdown",
   "id": "ab258576-91bb-416d-ad84-c15f7a8c0750",
   "metadata": {},
   "source": [
    "### Opening / Closing the file"
   ]
  },
  {
   "cell_type": "code",
   "execution_count": 1,
   "id": "d6b02330-246a-49bd-873d-e6abfa16504c",
   "metadata": {},
   "outputs": [],
   "source": [
    "file = open(\"Files/cute_animals.txt\", \"r\")\n",
    "file.close()"
   ]
  },
  {
   "cell_type": "markdown",
   "id": "4a81cd55-52f3-4948-babb-cedc9cc5b961",
   "metadata": {},
   "source": [
    "### Reading data from the file\n",
    "#### File as a string"
   ]
  },
  {
   "cell_type": "markdown",
   "id": "ddd7c975-6a16-4048-a948-b040d830adfb",
   "metadata": {},
   "source": [
    "Read all the file"
   ]
  },
  {
   "cell_type": "code",
   "execution_count": 2,
   "id": "9b3ba0e6-a86c-487a-8a05-cdbcf6c14dce",
   "metadata": {},
   "outputs": [
    {
     "data": {
      "text/plain": [
       "'Margay\\nRed Panda\\nElephant Shrew\\nFlapjack Octopus\\nFennec Fox\\nNumbat\\nJapanese weasel\\n'"
      ]
     },
     "execution_count": 2,
     "metadata": {},
     "output_type": "execute_result"
    }
   ],
   "source": [
    "file = open(\"Files/cute_animals.txt\", \"r\")\n",
    "content = file.read()\n",
    "file.close()\n",
    "content"
   ]
  },
  {
   "cell_type": "markdown",
   "id": "e2fb28e1-ac48-4b34-9672-08f411c11f2a",
   "metadata": {},
   "source": [
    "Read n characters from the file"
   ]
  },
  {
   "cell_type": "code",
   "execution_count": 3,
   "id": "3e719d99-c22e-423c-9d9f-770e950d8b64",
   "metadata": {},
   "outputs": [
    {
     "data": {
      "text/plain": [
       "'Margay\\nRed Panda'"
      ]
     },
     "execution_count": 3,
     "metadata": {},
     "output_type": "execute_result"
    }
   ],
   "source": [
    "file = open(\"Files/cute_animals.txt\", \"r\")\n",
    "content = file.read(16)\n",
    "file.close()\n",
    "content"
   ]
  },
  {
   "cell_type": "markdown",
   "id": "662269ce-33a3-43c1-a64d-193da841a0df",
   "metadata": {},
   "source": [
    "#### File as an array"
   ]
  },
  {
   "cell_type": "markdown",
   "id": "76068eb0-1458-4aba-a4f6-459b05de4ef3",
   "metadata": {},
   "source": [
    "Read one line from the file"
   ]
  },
  {
   "cell_type": "code",
   "execution_count": 4,
   "id": "54a4c010-c7c6-4d23-b95b-7826423d64c1",
   "metadata": {},
   "outputs": [
    {
     "data": {
      "text/plain": [
       "'Margay\\n'"
      ]
     },
     "execution_count": 4,
     "metadata": {},
     "output_type": "execute_result"
    }
   ],
   "source": [
    "file = open(\"Files/cute_animals.txt\", \"r\")\n",
    "content = file.readline()\n",
    "file.close()\n",
    "content"
   ]
  },
  {
   "cell_type": "markdown",
   "id": "e788bf25-caff-4d11-ab2c-e91e68fa1705",
   "metadata": {},
   "source": [
    "Read as array of strings"
   ]
  },
  {
   "cell_type": "code",
   "execution_count": 5,
   "id": "acb5b097-af67-42d7-bbbb-2f4b0e9ffe21",
   "metadata": {},
   "outputs": [
    {
     "data": {
      "text/plain": [
       "['Margay\\n',\n",
       " 'Red Panda\\n',\n",
       " 'Elephant Shrew\\n',\n",
       " 'Flapjack Octopus\\n',\n",
       " 'Fennec Fox\\n',\n",
       " 'Numbat\\n',\n",
       " 'Japanese weasel\\n']"
      ]
     },
     "execution_count": 5,
     "metadata": {},
     "output_type": "execute_result"
    }
   ],
   "source": [
    "file = open(\"Files/cute_animals.txt\", \"r\")\n",
    "content = file.readlines()\n",
    "file.close()\n",
    "content"
   ]
  },
  {
   "cell_type": "markdown",
   "id": "60dad04d-9a04-447e-9005-a5c8542177ee",
   "metadata": {},
   "source": [
    "### Writing data into a file"
   ]
  },
  {
   "cell_type": "markdown",
   "id": "7f94f5cc-9516-40dd-9b3f-7c7e2368a0b4",
   "metadata": {},
   "source": [
    "Write a string into a file"
   ]
  },
  {
   "cell_type": "code",
   "execution_count": 6,
   "id": "84de0b63-bfb7-4b9a-b40f-394f29f786c4",
   "metadata": {},
   "outputs": [],
   "source": [
    "new_file = open(\"Files/hello.txt\", \"w\")\n",
    "string = \"hello\"\n",
    "new_file.write(string)\n",
    "new_file.close()\n"
   ]
  },
  {
   "cell_type": "markdown",
   "id": "3e63f629-2ee7-4399-a5ba-7fa6cfe47c0d",
   "metadata": {},
   "source": [
    "Write an array into a file"
   ]
  },
  {
   "cell_type": "code",
   "execution_count": 7,
   "id": "0255b42a-c89b-4783-b996-323b0982bf1c",
   "metadata": {},
   "outputs": [],
   "source": [
    "new_file = open(\"Files/hello.txt\", \"w\")\n",
    "array = [\"hello\", \"world\"]\n",
    "new_file.writelines(array)\n",
    "new_file.close()\n"
   ]
  },
  {
   "cell_type": "markdown",
   "id": "c055e7cb-b6ec-47e9-9b16-d6f07c20694e",
   "metadata": {},
   "source": [
    "### Processing data"
   ]
  },
  {
   "cell_type": "markdown",
   "id": "ca385596-b257-45d2-ba0c-14105688c7ef",
   "metadata": {},
   "source": [
    "String"
   ]
  },
  {
   "cell_type": "code",
   "execution_count": 8,
   "id": "e1a38227-01f8-4b3f-906e-7776d5691476",
   "metadata": {},
   "outputs": [
    {
     "data": {
      "text/plain": [
       "['Margay',\n",
       " 'Red Panda',\n",
       " 'Elephant Shrew',\n",
       " 'Flapjack Octopus',\n",
       " 'Fennec Fox',\n",
       " 'Numbat',\n",
       " 'Japanese weasel',\n",
       " '']"
      ]
     },
     "execution_count": 8,
     "metadata": {},
     "output_type": "execute_result"
    }
   ],
   "source": [
    "file_1 = open(\"Files/cute_animals.txt\", \"r\")\n",
    "case_1 = file_1.read()\n",
    "case_1.split(\"\\n\")"
   ]
  },
  {
   "cell_type": "markdown",
   "id": "6aebdf1c-ba64-41ca-8529-94683bfaa4dd",
   "metadata": {},
   "source": [
    "Array"
   ]
  },
  {
   "cell_type": "code",
   "execution_count": 9,
   "id": "92ddaf69-b234-4d56-a6c3-93adddbd42d9",
   "metadata": {},
   "outputs": [
    {
     "data": {
      "text/plain": [
       "['Margay',\n",
       " 'Red Panda',\n",
       " 'Elephant Shrew',\n",
       " 'Flapjack Octopus',\n",
       " 'Fennec Fox',\n",
       " 'Numbat',\n",
       " 'Japanese weasel']"
      ]
     },
     "execution_count": 9,
     "metadata": {},
     "output_type": "execute_result"
    }
   ],
   "source": [
    "file_2 = open(\"Files/cute_animals.txt\", \"r\")\n",
    "case_2 = file_2.readlines()\n",
    "[x.split(\"\\n\")[0] for x in case_2]"
   ]
  }
 ],
 "metadata": {
  "kernelspec": {
   "display_name": "Python 3",
   "language": "python",
   "name": "python3"
  },
  "language_info": {
   "codemirror_mode": {
    "name": "ipython",
    "version": 3
   },
   "file_extension": ".py",
   "mimetype": "text/x-python",
   "name": "python",
   "nbconvert_exporter": "python",
   "pygments_lexer": "ipython3",
   "version": "3.8.5"
  }
 },
 "nbformat": 4,
 "nbformat_minor": 5
}
