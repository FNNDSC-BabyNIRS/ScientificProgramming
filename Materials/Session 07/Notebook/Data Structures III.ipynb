{
 "cells": [
  {
   "cell_type": "markdown",
   "id": "7724fa90-4517-4e12-8eb3-bfc874f33d60",
   "metadata": {},
   "source": [
    "# Python Bootcamp \n",
    "## Session 07 - Data Structures III"
   ]
  },
  {
   "cell_type": "code",
   "execution_count": null,
   "id": "182a4e1f-1f32-407f-8b20-fe68fd4055d2",
   "metadata": {},
   "outputs": [],
   "source": [
    "import random\n",
    "import math\n",
    "from functools import reduce"
   ]
  },
  {
   "cell_type": "markdown",
   "id": "1bce1792-c033-4fb4-b339-e53383fe7b68",
   "metadata": {},
   "source": [
    "### Slicing\n",
    "\n",
    "It is a technique used to access to a specific section of an array.\n",
    "\n",
    "        array = [47, 92, 26, 7, 16, 67, 78, 36, 8, 68]\n",
    "                 0   1   2  3   4   5   6   7   8  9             \n",
    "**Structure:**        \n",
    "array[START:STOP:STEP]\n",
    "        \n",
    "        Ex. array[2:6]\n",
    "            \n",
    "            [26, 7, 16, 67]"
   ]
  },
  {
   "cell_type": "code",
   "execution_count": null,
   "id": "e8b1ab6a-cbd1-4b8d-b763-65bb41732a56",
   "metadata": {},
   "outputs": [],
   "source": []
  },
  {
   "cell_type": "markdown",
   "id": "9276a8cf-8063-44d7-b17e-65d15e60d23b",
   "metadata": {},
   "source": [
    "#### Access to data from index A to B"
   ]
  },
  {
   "cell_type": "code",
   "execution_count": null,
   "id": "e81bb561-fc32-4b48-a74f-c55b8e12b26b",
   "metadata": {},
   "outputs": [],
   "source": []
  },
  {
   "cell_type": "markdown",
   "id": "29af24a2-3d31-41c0-ac3b-80f831e2bf3a",
   "metadata": {},
   "source": [
    "#### Access to data from the Nth element to the last element"
   ]
  },
  {
   "cell_type": "code",
   "execution_count": null,
   "id": "15b966ef-9a68-4fdb-9b88-fe22c22e09f4",
   "metadata": {},
   "outputs": [],
   "source": []
  },
  {
   "cell_type": "markdown",
   "id": "04cca5be-4a58-40d5-93ec-f8dce018b373",
   "metadata": {},
   "source": [
    "#### Access to data from first element to the Nth element"
   ]
  },
  {
   "cell_type": "code",
   "execution_count": null,
   "id": "3fd1132d-d78a-4fba-9914-57ebba6e9185",
   "metadata": {},
   "outputs": [],
   "source": []
  },
  {
   "cell_type": "markdown",
   "id": "27c7a1e4-6ccb-42ae-8503-0210a66dc6c0",
   "metadata": {},
   "source": [
    "#### Access to data from the last element to element A"
   ]
  },
  {
   "cell_type": "code",
   "execution_count": null,
   "id": "d8d98d6c-864b-4007-940f-1ffc2dc40674",
   "metadata": {},
   "outputs": [],
   "source": []
  },
  {
   "cell_type": "markdown",
   "id": "f32be608-4e4b-4afc-a17b-76e23ebef11d",
   "metadata": {},
   "source": [
    "#### Access to reversed data"
   ]
  },
  {
   "cell_type": "code",
   "execution_count": null,
   "id": "f5dbff4d-a10c-420f-adc5-47542b897f6f",
   "metadata": {},
   "outputs": [],
   "source": []
  },
  {
   "cell_type": "markdown",
   "id": "c31871a8-eb20-4b23-ab1d-f47e4383b6fe",
   "metadata": {},
   "source": [
    "### Lambda Functions\n",
    "\n",
    "Also known as Anonymous Functions because of its lack of name. It can have any number of parateters but only one expression.\n",
    "\n",
    "**Function Structure**\n",
    "\n",
    "        def add_two(x):\n",
    "            return x + 2\n",
    "            \n",
    "        add_two(x)\n",
    "        \n",
    "**Lambda Function Structure:**        \n",
    "           \n",
    "        (lambda x: x + 2)\n"
   ]
  },
  {
   "cell_type": "code",
   "execution_count": null,
   "id": "811d9c8f-c136-4144-85bf-e2d512b2f562",
   "metadata": {},
   "outputs": [],
   "source": []
  },
  {
   "cell_type": "markdown",
   "id": "8d9c5a4d-e663-42ce-a8f7-fb597217cf5a",
   "metadata": {},
   "source": [
    "#### Map\n",
    "It applies a function to each element of a sequence"
   ]
  },
  {
   "cell_type": "code",
   "execution_count": null,
   "id": "b3a2c952-636f-494f-8134-8752c31612d1",
   "metadata": {},
   "outputs": [],
   "source": []
  },
  {
   "cell_type": "markdown",
   "id": "b4a886f7-e3ef-4450-8d5a-05b03a47e836",
   "metadata": {},
   "source": [
    "#### Filter\n",
    "It creates a new sequence of elements that fulfill a condition"
   ]
  },
  {
   "cell_type": "code",
   "execution_count": null,
   "id": "f051a1a3-992f-4f6c-b592-312d307889f9",
   "metadata": {},
   "outputs": [],
   "source": []
  },
  {
   "cell_type": "markdown",
   "id": "512cbc35-b6c7-4d9e-b181-edfb5f1d7125",
   "metadata": {},
   "source": [
    "#### Reduce\n",
    "It applies a function of two arguments cumulatively to the elements of a sequence. Requires import from **functools**"
   ]
  },
  {
   "cell_type": "code",
   "execution_count": null,
   "id": "5c4b7480-d1a6-4914-8a00-d50272fec2cf",
   "metadata": {},
   "outputs": [],
   "source": []
  },
  {
   "cell_type": "markdown",
   "id": "20edabac-714c-44b6-a3dd-d89bff7d5162",
   "metadata": {},
   "source": [
    "### List Comprehension\n",
    "\n",
    "It is a quick way of making a list. Usually the list is the result of some operation that may involve applying a function, filtering, or building a different data structure. Comprehensions are alternatives for map, and filter, among other things.\n",
    "\n",
    "\n",
    "**List Comprehension Structure:**        \n",
    "           \n",
    "        (values) = [(expression) for (value) in (collection)]\n",
    " \n",
    "\n",
    "**Loop Equivalent Structure:**        \n",
    "           \n",
    "        (values) = []\n",
    "        for (value) in (collection):\n",
    "            (values).append( (expression) )\n"
   ]
  },
  {
   "cell_type": "code",
   "execution_count": null,
   "id": "3932b2e7-cb1d-4110-9559-0aa0313962aa",
   "metadata": {},
   "outputs": [],
   "source": []
  }
 ],
 "metadata": {
  "kernelspec": {
   "display_name": "Python 3",
   "language": "python",
   "name": "python3"
  },
  "language_info": {
   "codemirror_mode": {
    "name": "ipython",
    "version": 3
   },
   "file_extension": ".py",
   "mimetype": "text/x-python",
   "name": "python",
   "nbconvert_exporter": "python",
   "pygments_lexer": "ipython3",
   "version": "3.8.5"
  }
 },
 "nbformat": 4,
 "nbformat_minor": 5
}
