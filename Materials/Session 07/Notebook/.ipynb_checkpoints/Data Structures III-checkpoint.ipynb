{
 "cells": [
  {
   "cell_type": "markdown",
   "id": "7724fa90-4517-4e12-8eb3-bfc874f33d60",
   "metadata": {},
   "source": [
    "# Python Bootcamp \n",
    "## Session 07 - Data Structures III"
   ]
  },
  {
   "cell_type": "code",
   "execution_count": 50,
   "id": "182a4e1f-1f32-407f-8b20-fe68fd4055d2",
   "metadata": {},
   "outputs": [],
   "source": [
    "import random\n",
    "import math\n",
    "from functools import reduce"
   ]
  },
  {
   "cell_type": "markdown",
   "id": "1bce1792-c033-4fb4-b339-e53383fe7b68",
   "metadata": {},
   "source": [
    "### Slicing\n",
    "\n",
    "It is a technique used to access to a specific section of an array.\n",
    "\n",
    "        array = [47, 92, 26, 7, 16, 67, 78, 36, 8, 68, 45]\n",
    "                 0   1   2  3   4   5   6   7   8  9  10           \n",
    "**Structure:**        \n",
    "array[START:STOP:STEP]\n",
    "        \n",
    "        Ex. array[2:6]\n",
    "            \n",
    "            [26, 7, 16, 67]"
   ]
  },
  {
   "cell_type": "code",
   "execution_count": 45,
   "id": "cf0dada0-64ca-4655-bb38-4bfc971c64fa",
   "metadata": {},
   "outputs": [
    {
     "data": {
      "text/plain": [
       "[7, 16, 67, 78, 36]"
      ]
     },
     "execution_count": 45,
     "metadata": {},
     "output_type": "execute_result"
    }
   ],
   "source": [
    "array[3:8:1]"
   ]
  },
  {
   "cell_type": "code",
   "execution_count": 46,
   "id": "08b12af4-6bb5-4ad1-af56-29bc10a59630",
   "metadata": {},
   "outputs": [
    {
     "data": {
      "text/plain": [
       "[7, 16, 67, 78, 36]"
      ]
     },
     "execution_count": 46,
     "metadata": {},
     "output_type": "execute_result"
    }
   ],
   "source": [
    "array[3:8]"
   ]
  },
  {
   "cell_type": "code",
   "execution_count": 1,
   "id": "e8b1ab6a-cbd1-4b8d-b763-65bb41732a56",
   "metadata": {},
   "outputs": [],
   "source": [
    "array = [47, 92, 26, 7, 16, 67, 78, 36, 8, 68]"
   ]
  },
  {
   "cell_type": "code",
   "execution_count": 9,
   "id": "e84d20d4-7a57-44f5-869a-2a30810f2baa",
   "metadata": {},
   "outputs": [
    {
     "name": "stdout",
     "output_type": "stream",
     "text": [
      "9\n"
     ]
    }
   ],
   "source": [
    "array[len(array)-1]\n",
    "print(len(array)-1)"
   ]
  },
  {
   "cell_type": "code",
   "execution_count": 7,
   "id": "44def015-61db-489a-8069-d298515f812b",
   "metadata": {},
   "outputs": [
    {
     "data": {
      "text/plain": [
       "68"
      ]
     },
     "execution_count": 7,
     "metadata": {},
     "output_type": "execute_result"
    }
   ],
   "source": [
    "array[9]"
   ]
  },
  {
   "cell_type": "code",
   "execution_count": 8,
   "id": "b2eaff57-41ff-4823-8888-5fb2e1557389",
   "metadata": {},
   "outputs": [
    {
     "data": {
      "text/plain": [
       "68"
      ]
     },
     "execution_count": 8,
     "metadata": {},
     "output_type": "execute_result"
    }
   ],
   "source": [
    "array[-1]"
   ]
  },
  {
   "cell_type": "markdown",
   "id": "9276a8cf-8063-44d7-b17e-65d15e60d23b",
   "metadata": {},
   "source": [
    "#### Access to data from index A to B"
   ]
  },
  {
   "cell_type": "code",
   "execution_count": 12,
   "id": "e81bb561-fc32-4b48-a74f-c55b8e12b26b",
   "metadata": {},
   "outputs": [
    {
     "data": {
      "text/plain": [
       "[7, 16, 67, 78, 36]"
      ]
     },
     "execution_count": 12,
     "metadata": {},
     "output_type": "execute_result"
    }
   ],
   "source": [
    "a = 3\n",
    "b = 8\n",
    "array[a:b]"
   ]
  },
  {
   "cell_type": "markdown",
   "id": "29af24a2-3d31-41c0-ac3b-80f831e2bf3a",
   "metadata": {},
   "source": [
    "#### Access to data from the Nth element to the last element"
   ]
  },
  {
   "cell_type": "code",
   "execution_count": 14,
   "id": "417f3b81-01ba-4fec-94ff-d9c35d3b083f",
   "metadata": {},
   "outputs": [
    {
     "data": {
      "text/plain": [
       "[47, 92, 26, 7, 16, 67, 78, 36, 8, 68]"
      ]
     },
     "execution_count": 14,
     "metadata": {},
     "output_type": "execute_result"
    }
   ],
   "source": [
    "array"
   ]
  },
  {
   "cell_type": "code",
   "execution_count": 24,
   "id": "15b966ef-9a68-4fdb-9b88-fe22c22e09f4",
   "metadata": {},
   "outputs": [
    {
     "data": {
      "text/plain": [
       "[16, 67, 78, 36, 8, 68, 45]"
      ]
     },
     "execution_count": 24,
     "metadata": {},
     "output_type": "execute_result"
    }
   ],
   "source": [
    "n = 4\n",
    "array.append(45)\n",
    "array[n:15]"
   ]
  },
  {
   "cell_type": "markdown",
   "id": "04cca5be-4a58-40d5-93ec-f8dce018b373",
   "metadata": {},
   "source": [
    "#### Access to data from first element to the Nth element"
   ]
  },
  {
   "cell_type": "code",
   "execution_count": 26,
   "id": "3fd1132d-d78a-4fba-9914-57ebba6e9185",
   "metadata": {},
   "outputs": [
    {
     "data": {
      "text/plain": [
       "[47, 92, 26, 7, 16, 67, 78, 36]"
      ]
     },
     "execution_count": 26,
     "metadata": {},
     "output_type": "execute_result"
    }
   ],
   "source": [
    "array[0:8]"
   ]
  },
  {
   "cell_type": "markdown",
   "id": "27c7a1e4-6ccb-42ae-8503-0210a66dc6c0",
   "metadata": {},
   "source": [
    "#### Access to data from the last element to element A"
   ]
  },
  {
   "cell_type": "code",
   "execution_count": 27,
   "id": "d8d98d6c-864b-4007-940f-1ffc2dc40674",
   "metadata": {},
   "outputs": [
    {
     "data": {
      "text/plain": [
       "[47, 92, 26, 7, 16, 67, 78, 36, 8, 68, 45]"
      ]
     },
     "execution_count": 27,
     "metadata": {},
     "output_type": "execute_result"
    }
   ],
   "source": [
    "array"
   ]
  },
  {
   "cell_type": "code",
   "execution_count": 38,
   "id": "a91d197c-9bde-4eb1-a576-156e780ba4a6",
   "metadata": {},
   "outputs": [
    {
     "data": {
      "text/plain": [
       "[]"
      ]
     },
     "execution_count": 38,
     "metadata": {},
     "output_type": "execute_result"
    }
   ],
   "source": [
    "array[4:8:-1]"
   ]
  },
  {
   "cell_type": "markdown",
   "id": "f32be608-4e4b-4afc-a17b-76e23ebef11d",
   "metadata": {},
   "source": [
    "#### Access to reversed data"
   ]
  },
  {
   "cell_type": "code",
   "execution_count": 39,
   "id": "f5dbff4d-a10c-420f-adc5-47542b897f6f",
   "metadata": {},
   "outputs": [
    {
     "data": {
      "text/plain": [
       "[45, 68, 8, 36, 78, 67, 16, 7, 26, 92, 47]"
      ]
     },
     "execution_count": 39,
     "metadata": {},
     "output_type": "execute_result"
    }
   ],
   "source": [
    "array[::-1]"
   ]
  },
  {
   "cell_type": "markdown",
   "id": "c31871a8-eb20-4b23-ab1d-f47e4383b6fe",
   "metadata": {},
   "source": [
    "### Lambda Functions\n",
    "\n",
    "Also known as Anonymous Functions because of its lack of name. It can have any number of parateters but only one expression.\n",
    "\n",
    "**Function Structure**\n",
    "add_two\n",
    "        def add_two(x):\n",
    "            return x + 2\n",
    "            \n",
    "        add_two(x)\n",
    "        \n",
    "**Lambda Function Structure:**        \n",
    "           \n",
    "        (lambda x: x + 2)\n"
   ]
  },
  {
   "cell_type": "code",
   "execution_count": 65,
   "id": "b6af2e3d-bfb2-4fe4-bac9-60378d7e3814",
   "metadata": {},
   "outputs": [],
   "source": [
    "def add_two(x):\n",
    "        return x + 2\n",
    "    \n",
    "def sqrt_root_of(element):\n",
    "    return math.sqrt(element)"
   ]
  },
  {
   "cell_type": "code",
   "execution_count": 48,
   "id": "811d9c8f-c136-4144-85bf-e2d512b2f562",
   "metadata": {},
   "outputs": [
    {
     "data": {
      "text/plain": [
       "5"
      ]
     },
     "execution_count": 48,
     "metadata": {},
     "output_type": "execute_result"
    }
   ],
   "source": [
    "add_two(3)"
   ]
  },
  {
   "cell_type": "code",
   "execution_count": 49,
   "id": "00f2920a-af82-4056-a158-52b748f5ac85",
   "metadata": {},
   "outputs": [
    {
     "data": {
      "text/plain": [
       "<function __main__.<lambda>(x)>"
      ]
     },
     "execution_count": 49,
     "metadata": {},
     "output_type": "execute_result"
    }
   ],
   "source": [
    "(lambda x: x + 2)"
   ]
  },
  {
   "cell_type": "markdown",
   "id": "8d9c5a4d-e663-42ce-a8f7-fb597217cf5a",
   "metadata": {},
   "source": [
    "#### Map\n",
    "It applies a function to each element of a sequence"
   ]
  },
  {
   "cell_type": "code",
   "execution_count": 70,
   "id": "b3a2c952-636f-494f-8134-8752c31612d1",
   "metadata": {},
   "outputs": [
    {
     "name": "stdout",
     "output_type": "stream",
     "text": [
      "Original List: [94, 87, 90, 99, 80, 96, 84, 89, 40, 77]\n",
      "New List: [96, 89, 92, 101, 82, 98, 86, 91, 42, 79]\n"
     ]
    }
   ],
   "source": [
    "l = [94, 87, 90, 99, 80, 96, 84, 89, 40, 77]\n",
    "print(\"Original List:\", l)\n",
    "\n",
    "n_l = list(map((lambda x: x + 2), l))\n",
    "\n",
    "print(\"New List:\", n_l)"
   ]
  },
  {
   "cell_type": "code",
   "execution_count": 69,
   "id": "f99b3ecf-c9e5-4c6e-94b7-4ddb5a58b1e5",
   "metadata": {},
   "outputs": [
    {
     "name": "stdout",
     "output_type": "stream",
     "text": [
      "Original List: [94, 87, 90, 99, 80, 96, 84, 89, 40, 77]\n",
      "New List: [96, 89, 92, 101, 82, 98, 86, 91, 42, 79]\n"
     ]
    }
   ],
   "source": [
    "l = [94, 87, 90, 99, 80, 96, 84, 89, 40, 77]\n",
    "n_l = []\n",
    "\n",
    "\n",
    "for element in l:\n",
    "    n_l.append(add_two(element))\n",
    "    \n",
    "print(\"Original List:\", l)\n",
    "print(\"New List:\", n_l)\n"
   ]
  },
  {
   "cell_type": "markdown",
   "id": "b4a886f7-e3ef-4450-8d5a-05b03a47e836",
   "metadata": {},
   "source": [
    "#### Filter\n",
    "It creates a new sequence of elements that fulfill a condition"
   ]
  },
  {
   "cell_type": "code",
   "execution_count": 74,
   "id": "f051a1a3-992f-4f6c-b592-312d307889f9",
   "metadata": {},
   "outputs": [
    {
     "name": "stdout",
     "output_type": "stream",
     "text": [
      "Original List: [94, 87, 90, 99, 80, 96, 84, 89, 40, 77]\n",
      "New List: [90, 80, 40]\n"
     ]
    }
   ],
   "source": [
    "l = [94, 87, 90, 99, 80, 96, 84, 89, 40, 77]\n",
    "\n",
    "new_list = list(filter((lambda x: x%5 == 0), l))\n",
    "\n",
    "print(\"Original List:\", l)\n",
    "print(\"New List:\", new_list)"
   ]
  },
  {
   "cell_type": "code",
   "execution_count": 73,
   "id": "d19678c7-5ed6-4c25-a27e-bf6ff9b4ae32",
   "metadata": {},
   "outputs": [
    {
     "name": "stdout",
     "output_type": "stream",
     "text": [
      "Original List: [94, 87, 90, 99, 80, 96, 84, 89, 40, 77]\n",
      "New List: [90, 80, 40]\n"
     ]
    }
   ],
   "source": [
    "new_list = []\n",
    "\n",
    "for element in l:\n",
    "    if element % 5 == 0:\n",
    "        new_list.append(element)\n",
    "        \n",
    "print(\"Original List:\", l)\n",
    "print(\"New List:\", new_list)"
   ]
  },
  {
   "cell_type": "code",
   "execution_count": 85,
   "id": "f1b01d8d-ba81-4f18-9758-b55a9461e36f",
   "metadata": {},
   "outputs": [
    {
     "name": "stdout",
     "output_type": "stream",
     "text": [
      "First 5: [1, 2, 3, 4, 5]\n",
      "Random List [15, 2, 0, 1, 5, 18]\n"
     ]
    },
    {
     "data": {
      "text/plain": [
       "[15, 0, 18]"
      ]
     },
     "execution_count": 85,
     "metadata": {},
     "output_type": "execute_result"
    }
   ],
   "source": [
    "\n",
    "five_nums = [1, 2, 3, 4, 5]\n",
    "l = [15, 2, 0, 1, 5, 18] #random.sample(range(0, 20), 6)\n",
    "print(\"First 5:\", five_nums)\n",
    "print(\"Random List\",l)\n",
    "\n",
    "list(filter((lambda x: x not in five_nums), l))\n",
    "\n"
   ]
  },
  {
   "cell_type": "code",
   "execution_count": 86,
   "id": "dfcd9fe4-346d-4b9f-aca0-255729a21a66",
   "metadata": {},
   "outputs": [
    {
     "name": "stdout",
     "output_type": "stream",
     "text": [
      "First 5: [1, 2, 3, 4, 5]\n",
      "Random List [15, 2, 0, 1, 5, 18]\n"
     ]
    },
    {
     "data": {
      "text/plain": [
       "[15, 0, 18]"
      ]
     },
     "execution_count": 86,
     "metadata": {},
     "output_type": "execute_result"
    }
   ],
   "source": [
    "five_nums = [1, 2, 3, 4, 5]\n",
    "l = [15, 2, 0, 1, 5, 18] \n",
    "\n",
    "only_five_nums_elements_from_l = []\n",
    "\n",
    "for element in l:\n",
    "    if element not in five_nums:\n",
    "        only_five_nums_elements_from_l.append(element)\n",
    "\n",
    "\n",
    "print(\"First 5:\", five_nums)\n",
    "print(\"Random List\",l)\n",
    "only_five_nums_elements_from_l"
   ]
  },
  {
   "cell_type": "markdown",
   "id": "512cbc35-b6c7-4d9e-b181-edfb5f1d7125",
   "metadata": {},
   "source": [
    "#### Reduce\n",
    "It applies a function of two arguments cumulatively to the elements of a sequence. Requires import from **functools**"
   ]
  },
  {
   "cell_type": "code",
   "execution_count": 104,
   "id": "5c4b7480-d1a6-4914-8a00-d50272fec2cf",
   "metadata": {},
   "outputs": [
    {
     "name": "stdout",
     "output_type": "stream",
     "text": [
      "[77, 63, 95]\n",
      "87\n"
     ]
    }
   ],
   "source": [
    "random_list = [77, 63, 95] #random.sample(range(5, 100), 10)\n",
    "print(random_list)\n",
    "\n",
    "print(reduce((lambda x, y:  2 * x - y), random_list))\n"
   ]
  },
  {
   "cell_type": "code",
   "execution_count": 103,
   "id": "eabe3355-5a39-415a-9785-a0ad119d7376",
   "metadata": {},
   "outputs": [
    {
     "name": "stdout",
     "output_type": "stream",
     "text": [
      "87\n"
     ]
    }
   ],
   "source": [
    "# First pass\n",
    "x = 77\n",
    "y = 63\n",
    "\n",
    "result = 2 * x - y\n",
    "\n",
    "# Second pass\n",
    "\n",
    "x = result\n",
    "y = 95\n",
    "\n",
    "result = 2 * x - y\n",
    "\n",
    "\n",
    "\n",
    "\n",
    "print(result)"
   ]
  },
  {
   "cell_type": "code",
   "execution_count": 118,
   "id": "0bc7f20a-b5bf-426d-a65e-32212ee60da3",
   "metadata": {},
   "outputs": [
    {
     "name": "stdout",
     "output_type": "stream",
     "text": [
      "[77, 63, 95]\n",
      "0\n",
      "1\n"
     ]
    },
    {
     "data": {
      "text/plain": [
       "87"
      ]
     },
     "execution_count": 118,
     "metadata": {},
     "output_type": "execute_result"
    }
   ],
   "source": [
    "print(random_list)\n",
    "\n",
    "result = random_list[0]\n",
    "\n",
    "\n",
    "for i in range(0, len(random_list)-1):\n",
    "    print(i)\n",
    "    x = result\n",
    "    y = random_list[i+1]\n",
    "    result = 2 * x - y\n",
    "    \n",
    "result"
   ]
  },
  {
   "cell_type": "markdown",
   "id": "20edabac-714c-44b6-a3dd-d89bff7d5162",
   "metadata": {},
   "source": [
    "### List Comprehension\n",
    "\n",
    "It is a quick way of making a list. Usually the list is the result of some operation that may involve applying a function, filtering, or building a different data structure. Comprehensions are alternatives for map, and filter, among other things.\n",
    "\n",
    "\n",
    "**List Comprehension Structure:**        \n",
    "           \n",
    "        (values) = [(expression) for (value) in (collection)]\n",
    " \n",
    "\n",
    "**Loop Equivalent Structure:**        \n",
    "           \n",
    "        (values) = []\n",
    "        for (value) in (collection):\n",
    "            (values).append( (expression) )\n"
   ]
  },
  {
   "cell_type": "code",
   "execution_count": null,
   "id": "3932b2e7-cb1d-4110-9559-0aa0313962aa",
   "metadata": {},
   "outputs": [],
   "source": []
  }
 ],
 "metadata": {
  "kernelspec": {
   "display_name": "Python 3",
   "language": "python",
   "name": "python3"
  },
  "language_info": {
   "codemirror_mode": {
    "name": "ipython",
    "version": 3
   },
   "file_extension": ".py",
   "mimetype": "text/x-python",
   "name": "python",
   "nbconvert_exporter": "python",
   "pygments_lexer": "ipython3",
   "version": "3.8.5"
  }
 },
 "nbformat": 4,
 "nbformat_minor": 5
}
