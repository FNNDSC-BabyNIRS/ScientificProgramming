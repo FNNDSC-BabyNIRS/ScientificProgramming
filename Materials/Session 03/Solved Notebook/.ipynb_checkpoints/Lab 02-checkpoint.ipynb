{
 "cells": [
  {
   "cell_type": "markdown",
   "metadata": {},
   "source": [
    "# Python Bootcamp \n",
    "## Session 03"
   ]
  },
  {
   "cell_type": "markdown",
   "metadata": {},
   "source": [
    "### Programming Activity 01\n",
    "\n",
    "In this session we'll create 3 teams. Each team will solve one of the following challenges and will present their solutions to the other teams at the end of the class."
   ]
  },
  {
   "attachments": {
    "83bbfa9b-944d-4185-8765-dbb43feab73f.png": {
     "image/png": "[encoded data removed]"
    }
   },
   "cell_type": "markdown",
   "metadata": {},
   "source": [
    "#### Team 01 - Pi Approximation\n",
    "Write a function that calculates and returns the approximation of Pi of the following series:\n",
    "\n",
    "**Requirements:**\n",
    "* The user will introduce the number **n** which stands for the length of the series.\n",
    "* Create a function that recieves the number **n** as a parameter.\n",
    "* It should print **\"The value of π²/6 is:\"** and its value.\n",
    "* It should print **\"The approximation for n is:\"** and its value.\n",
    "\n",
    "Note: you can use **math.pi** to get the value of Pi\n",
    "\n",
    "\n",
    "**Example:**\n",
    "\n",
    "    getPiApproximationOf(90)\n",
    "    \n",
    "    The value of π²/6 is: 1.6449340668482264\n",
    "    The approximation for n is: 1.633760998724012"
   ]
  },
  {
   "cell_type": "code",
   "execution_count": 9,
   "metadata": {},
   "outputs": [],
   "source": [
    "import math\n",
    "\n",
    "def getPiApproximationOf(n):\n",
    "    approx = 0\n",
    "    for i in range(1, n):\n",
    "        approx += 1/(i)**2\n",
    "    print(\"The value of π²/6 is:\", (math.pi**2)/6)\n",
    "    print(\"The approximation for n is:\", approx)"
   ]
  },
  {
   "cell_type": "code",
   "execution_count": 10,
   "metadata": {},
   "outputs": [
    {
     "name": "stdout",
     "output_type": "stream",
     "text": [
      "The value of π²/6 is: 1.6449340668482264\n",
      "The approximation for n is: 1.633760998724012\n"
     ]
    }
   ],
   "source": [
    "getPiApproximationOf(90)"
   ]
  },
  {
   "cell_type": "markdown",
   "metadata": {},
   "source": [
    "#### Team 02 - Mean and Standard Deviation\n",
    "Write a function that calculates and returns the mean and standard deviation for a set of numbers.\n",
    "\n",
    "**Requirements:**\n",
    "\n",
    "If you decide to use a list for the input:\n",
    "* Create a function that receives  the array **list_of_numbers** as a parameter.\n",
    "* **Note:** You can use the associated functions of arrays if you already know them. If not implement your own version.\n",
    "\n",
    "If you decide to recieve the **n** values for the input:\n",
    "* Create a function that receives  a value **n** which stands for the number of values that the user will introduce.\n",
    "* Save each value the user introduces.\n",
    "\n",
    "Return the values for the mean and the standard deviation.\n",
    "\n",
    "**Example with lists:**\n",
    "\n",
    "    getMeanAndStdDev( [1,2,3,4,5] )\n",
    "\n",
    "    Mean: 3.0\n",
    "    Standard Deviation: 1.5811388300841898  \n",
    "**Example with values:**\n",
    "\n",
    "    getMeanAndStdDev( 5 )\n",
    "\n",
    "    Enter the value 1: 1\n",
    "    Enter the value 2: 2\n",
    "    Enter the value 3: 3\n",
    "    Enter the value 4: 4\n",
    "    Enter the value 5: 5\n",
    "\n",
    "    Mean: 3.0\n",
    "    Standard Deviation: 1.5811388300841898  "
   ]
  },
  {
   "cell_type": "code",
   "execution_count": 1,
   "metadata": {},
   "outputs": [],
   "source": [
    "# Implementation without built-in functions\n",
    "\n",
    "def get_mean(list_of_numbers):\n",
    "    n = 0\n",
    "    summ = 0\n",
    "    for xi in list_of_numbers:\n",
    "        n += 1\n",
    "        summ += xi\n",
    "    return summ/n # return sum(list_of_numbers)/len(list_of_numbers)\n",
    "\n",
    "def get_std(list_of_numbers):\n",
    "    mean = get_mean(list_of_numbers)\n",
    "    summ = 0\n",
    "    n = 0\n",
    "    for xi in list_of_numbers:\n",
    "        n += 1\n",
    "        summ += (xi - mean) ** 2\n",
    "    return (summ/(n-1))**0.5\n",
    "\n",
    "def getMeanAndStdDev(list_of_numbers):\n",
    "    print(\"Mean:\", get_mean(list_of_numbers))\n",
    "    print(\"Standard Deviation:\", get_std(list_of_numbers))\n"
   ]
  },
  {
   "cell_type": "code",
   "execution_count": null,
   "metadata": {},
   "outputs": [],
   "source": [
    "# Implementation with built-in functions\n",
    "\n",
    "def get_mean(list_of_numbers):\n",
    "    return sum(list_of_numbers) / len(list_of_numbers)\n",
    "\n",
    "def get_std(list_of_numbers):\n",
    "    mean = get_mean(list_of_numbers)\n",
    "    summ = 0\n",
    "    n = len(list_of_numbers)\n",
    "    for xi in list_of_numbers:\n",
    "        summ += (xi - mean) ** 2\n",
    "    return (summ/(n-1)) ** 0.5\n",
    "\n",
    "def getMeanAndStdDev(list_of_numbers):\n",
    "    print(\"Mean:\", get_mean(list_of_numbers))\n",
    "    print(\"Standard Deviation:\", get_std(list_of_numbers))\n"
   ]
  },
  {
   "cell_type": "code",
   "execution_count": 11,
   "metadata": {},
   "outputs": [
    {
     "name": "stdout",
     "output_type": "stream",
     "text": [
      "Mean: 3.0\n",
      "Standard Deviation: 1.5811388300841898\n"
     ]
    }
   ],
   "source": [
    "getMeanAndStdDev([1,2,3,4,5])"
   ]
  },
  {
   "cell_type": "markdown",
   "metadata": {},
   "source": [
    "#### Team 03 - Calculating Discounts\n",
    "Write a function that calculates the final price for chocolate bar boxes after applying the respective discount, acording to the following table:\n",
    "\n",
    "|Quantity|Discount|\n",
    "| :---: | :---: |\n",
    "| 10 - 19 | 20 % |\n",
    "| 20 - 49 | 30 % |\n",
    "| 50 - 99 | 40 % |\n",
    "| + 100  | 50 % |\n",
    "\n",
    "Each box has a cost of $5.\n",
    "\n",
    "**Requirements:**\n",
    "\n",
    "* Create a function that recieves the number of chocolate bar boxes **n** as a parameter.\n",
    "* Use the discount table as a guideline.\n",
    "* Return the discounted ammount and the final price.\n",
    "* If **n** is not greater than 0, you should print \"Not a valid purchase\"\n",
    "\n",
    "**Example:**\n",
    "\n",
    "    calculateDiscountFor(21)\n",
    "\n",
    "    Total Price: $ 105.0\n",
    "    Final price: $ 73.5\n",
    "    Discount: 30.0 %"
   ]
  },
  {
   "cell_type": "code",
   "execution_count": 12,
   "metadata": {},
   "outputs": [],
   "source": [
    "def calculateDiscountFor(n):\n",
    "    if n>0:\n",
    "        if n >= 10 and n <20:\n",
    "            discount = 0.20\n",
    "        elif n >= 20 and n <50:\n",
    "            discount = 0.30\n",
    "        elif n >= 50 and n <100:\n",
    "            discount = 0.40\n",
    "        elif n>=100:\n",
    "            discount = 0.50\n",
    "        else:\n",
    "            discount = 0\n",
    "\n",
    "        price = 5 * n\n",
    "        d_price = price - price * discount\n",
    "        print(\"Total Price: $\", float(price))\n",
    "        print(\"Final price: $\", float(d_price))\n",
    "        print(\"Discount:\",  discount*100, \"%\")\n",
    "    else:\n",
    "        print(\"Not a valid purchase\")\n",
    "    "
   ]
  },
  {
   "cell_type": "code",
   "execution_count": 13,
   "metadata": {},
   "outputs": [
    {
     "name": "stdout",
     "output_type": "stream",
     "text": [
      "Total Price: $ 105.0\n",
      "Final price: $ 73.5\n",
      "Discount: 30.0 %\n"
     ]
    }
   ],
   "source": [
    "calculateDiscountFor(21)"
   ]
  }
 ],
 "metadata": {
  "interpreter": {
   "hash": "fe44fef87f92f48a3a32707d0df204585f471652bc0ce87358a3ce712bc24db0"
  },
  "kernelspec": {
   "display_name": "Python 3.9.7 64-bit",
   "name": "python3"
  },
  "language_info": {
   "codemirror_mode": {
    "name": "ipython",
    "version": 3
   },
   "file_extension": ".py",
   "mimetype": "text/x-python",
   "name": "python",
   "nbconvert_exporter": "python",
   "pygments_lexer": "ipython3",
   "version": "3.9.7"
  }
 },
 "nbformat": 4,
 "nbformat_minor": 4
}
