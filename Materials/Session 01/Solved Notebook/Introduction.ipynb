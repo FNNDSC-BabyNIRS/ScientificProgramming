{
 "cells": [
  {
   "cell_type": "markdown",
   "id": "e2579a93-43cd-481d-9c99-a106c9e8c9c4",
   "metadata": {},
   "source": [
    "# Python Bootcamp\n",
    "## Session 01 - Notebook Solution"
   ]
  },
  {
   "cell_type": "markdown",
   "id": "68c2350a-d2f6-456e-a0ee-872768637627",
   "metadata": {},
   "source": [
    "### 0) Hello World!\n",
    "\n",
    "It is a tradition that when you first code in any new programming language you print in console \"Hello world!\". \n",
    "\n",
    "In Python we use the function **print( )** to do that. You only have to write the text **\"Hello world!\"** inside the parenthesis **(Note: Use the quotation marks)**. "
   ]
  },
  {
   "cell_type": "code",
   "execution_count": 1,
   "id": "a470d183-3647-45f7-8013-b1d818217cf7",
   "metadata": {},
   "outputs": [
    {
     "name": "stdout",
     "output_type": "stream",
     "text": [
      "Hello World!\n"
     ]
    }
   ],
   "source": [
    "print(\"Hello World!\")"
   ]
  },
  {
   "cell_type": "markdown",
   "id": "68ada240-be99-44a1-87b8-6b84d96bd206",
   "metadata": {},
   "source": [
    "### 1) Variables\n",
    "\n",
    "Variables are the symbolic representation of a stored value in the computer’s memory.\n"
   ]
  },
  {
   "cell_type": "code",
   "execution_count": 2,
   "id": "1b71cbe4-0c60-4a79-b062-32b72724569a",
   "metadata": {},
   "outputs": [],
   "source": [
    "pi = 3.1415\n",
    "age = 22\n",
    "hospital = \"CURE Children's Hospital of Uganda\""
   ]
  },
  {
   "cell_type": "markdown",
   "id": "c704c303-ffa9-4be9-a4c2-354f7e8d2dce",
   "metadata": {},
   "source": [
    "**DIY:** You can print any of the previous variables bellow to see their values:"
   ]
  },
  {
   "cell_type": "code",
   "execution_count": 3,
   "id": "b1e8af3d-3db9-4c5e-918a-569fc259f778",
   "metadata": {},
   "outputs": [
    {
     "name": "stdout",
     "output_type": "stream",
     "text": [
      "3.1415\n"
     ]
    }
   ],
   "source": [
    "print(pi)"
   ]
  },
  {
   "cell_type": "markdown",
   "id": "6e630510-c9b8-4db2-b96b-ce79b37c9e49",
   "metadata": {},
   "source": [
    "**DIY:** Now try creating a variable for your **name** and for the current hour (**hour** and **minutes**)."
   ]
  },
  {
   "cell_type": "code",
   "execution_count": 4,
   "id": "f9509a53-e493-4ac1-8968-af7c0c228169",
   "metadata": {},
   "outputs": [],
   "source": [
    "name = \"Luis\"\n",
    "\n",
    "hour = 9\n",
    "minute = 54"
   ]
  },
  {
   "cell_type": "code",
   "execution_count": 5,
   "id": "768f60c5-6293-466d-837c-9473dc45dd75",
   "metadata": {},
   "outputs": [
    {
     "name": "stdout",
     "output_type": "stream",
     "text": [
      "Luis says its 9 : 54 am\n"
     ]
    }
   ],
   "source": [
    "print(name, \"says its\", hour , \":\", minute, \"am\")"
   ]
  },
  {
   "cell_type": "markdown",
   "id": "4adb3076-331f-42d6-a96e-dc528eab4e95",
   "metadata": {},
   "source": [
    "### 2) Data Types\n",
    "As you previously could see, there are a few data types in Python which are listed bellow:\n",
    "\n",
    "* **Integer:** 0, 1, -2, 3, 999999\n",
    "* **Floating:** 9.8, 5.6, 1.15\n",
    "* **String:** \"This is a string\", \"This is not a string\"\n",
    "* **Boolean:** False\n"
   ]
  },
  {
   "cell_type": "markdown",
   "id": "103d16f8-4dc2-4bd9-8ca9-9b2be95353b9",
   "metadata": {},
   "source": [
    "#### Integer"
   ]
  },
  {
   "cell_type": "code",
   "execution_count": 6,
   "id": "659df18a-5f3f-438e-8156-2b57ad925207",
   "metadata": {},
   "outputs": [],
   "source": [
    "a = 1\n",
    "b = 5\n",
    "c = 99"
   ]
  },
  {
   "cell_type": "markdown",
   "id": "c3fc4bf1-a3a8-4ea1-a04d-1d6cdc573cb9",
   "metadata": {},
   "source": [
    "#### Floating"
   ]
  },
  {
   "cell_type": "code",
   "execution_count": 7,
   "id": "37ace12a-64fe-429c-8235-607ae3b5e433",
   "metadata": {},
   "outputs": [],
   "source": [
    "a = 5.34\n",
    "ft = 0.30"
   ]
  },
  {
   "cell_type": "markdown",
   "id": "d0178168-8ecc-4672-aeb7-050cbae485bc",
   "metadata": {},
   "source": [
    "#### String"
   ]
  },
  {
   "cell_type": "code",
   "execution_count": 8,
   "id": "813f47b0-7e95-4fb0-8ce2-035c857f91d6",
   "metadata": {},
   "outputs": [],
   "source": [
    "my_string = \"string\"\n",
    "\n",
    "location = \"Boston, MA\""
   ]
  },
  {
   "cell_type": "markdown",
   "id": "ca011da6-460b-4c29-983b-83fdc69d37df",
   "metadata": {},
   "source": [
    "#### Boolean"
   ]
  },
  {
   "cell_type": "code",
   "execution_count": 9,
   "id": "dbdda1c9-cece-45ab-a8d1-5e067d4c798c",
   "metadata": {},
   "outputs": [],
   "source": [
    "rain = True\n",
    "sun = False"
   ]
  },
  {
   "cell_type": "markdown",
   "id": "78aa24be-ff51-42ce-9b38-4a995c19b5a8",
   "metadata": {},
   "source": [
    "**DIY:** Create a variable named after each data type and assign it a value with that data type"
   ]
  },
  {
   "cell_type": "code",
   "execution_count": 10,
   "id": "b96bb953-b843-419f-92d9-326851407f39",
   "metadata": {},
   "outputs": [],
   "source": [
    "integer = 4\n",
    "floating = 6.3363\n",
    "string = \"This is a string\"\n",
    "boolean = True"
   ]
  },
  {
   "cell_type": "code",
   "execution_count": 11,
   "id": "60f11677-aa70-4ec9-860a-66c4e44639b5",
   "metadata": {},
   "outputs": [
    {
     "name": "stdout",
     "output_type": "stream",
     "text": [
      "4 <class 'int'>\n",
      "6.3363 <class 'float'>\n",
      "This is a string <class 'str'>\n",
      "True <class 'bool'>\n"
     ]
    }
   ],
   "source": [
    "print(integer, type(integer))\n",
    "print(floating, type(floating))\n",
    "print(string, type(string))\n",
    "print(boolean, type(boolean))"
   ]
  },
  {
   "cell_type": "markdown",
   "id": "24fefb2e-da6f-49c2-9b33-7a25b09522bf",
   "metadata": {},
   "source": [
    "### 3) Arithmetic Operators"
   ]
  },
  {
   "cell_type": "markdown",
   "id": "db715be3-8f9b-47be-ac5b-014e7c7cde77",
   "metadata": {},
   "source": [
    "#### Addition (+)"
   ]
  },
  {
   "cell_type": "code",
   "execution_count": 12,
   "id": "c1d272f6-a066-4ed6-8f91-90a8c4131461",
   "metadata": {},
   "outputs": [
    {
     "data": {
      "text/plain": [
       "4"
      ]
     },
     "execution_count": 12,
     "metadata": {},
     "output_type": "execute_result"
    }
   ],
   "source": [
    "2 + 2"
   ]
  },
  {
   "cell_type": "markdown",
   "id": "488baa27-074e-4a55-aecb-bf5fb91ee6ca",
   "metadata": {},
   "source": [
    "#### Substraction (-)"
   ]
  },
  {
   "cell_type": "code",
   "execution_count": 13,
   "id": "f639bd65-5525-4e87-b1c5-46998da683d9",
   "metadata": {},
   "outputs": [
    {
     "data": {
      "text/plain": [
       "-4"
      ]
     },
     "execution_count": 13,
     "metadata": {},
     "output_type": "execute_result"
    }
   ],
   "source": [
    "5 - 9"
   ]
  },
  {
   "cell_type": "markdown",
   "id": "488baa27-074e-4a55-aecb-bf5fb91ee6ca",
   "metadata": {},
   "source": [
    "#### Multiplication (*)"
   ]
  },
  {
   "cell_type": "code",
   "execution_count": 14,
   "id": "f639bd65-5525-4e87-b1c5-46998da683d9",
   "metadata": {},
   "outputs": [
    {
     "data": {
      "text/plain": [
       "15"
      ]
     },
     "execution_count": 14,
     "metadata": {},
     "output_type": "execute_result"
    }
   ],
   "source": [
    "3 * 5"
   ]
  },
  {
   "cell_type": "markdown",
   "id": "48039243-1a31-4e9d-8ed3-ad07dc1133d0",
   "metadata": {},
   "source": [
    "#### Integer Division (//)"
   ]
  },
  {
   "cell_type": "code",
   "execution_count": 15,
   "id": "946e94f2-fdfb-43d5-ba4f-f611d7855c45",
   "metadata": {},
   "outputs": [
    {
     "data": {
      "text/plain": [
       "18"
      ]
     },
     "execution_count": 15,
     "metadata": {},
     "output_type": "execute_result"
    }
   ],
   "source": [
    "56 // 3"
   ]
  },
  {
   "cell_type": "markdown",
   "id": "4921fae1-3743-4802-a71a-9dabafce8816",
   "metadata": {},
   "source": [
    "#### Floating Division (/)"
   ]
  },
  {
   "cell_type": "code",
   "execution_count": 16,
   "id": "71ce2e29-2f3c-41a6-a4a0-da2849972f2d",
   "metadata": {},
   "outputs": [
    {
     "data": {
      "text/plain": [
       "18.666666666666668"
      ]
     },
     "execution_count": 16,
     "metadata": {},
     "output_type": "execute_result"
    }
   ],
   "source": [
    "56 / 3"
   ]
  },
  {
   "cell_type": "markdown",
   "id": "8a188e7b-c250-41a8-abc3-58f4eef65e9f",
   "metadata": {},
   "source": [
    "#### Module (%)"
   ]
  },
  {
   "cell_type": "code",
   "execution_count": 17,
   "id": "60c73f5c-4240-413b-84d5-e6641603bc9f",
   "metadata": {},
   "outputs": [
    {
     "data": {
      "text/plain": [
       "1"
      ]
     },
     "execution_count": 17,
     "metadata": {},
     "output_type": "execute_result"
    }
   ],
   "source": [
    "7 % 3"
   ]
  },
  {
   "cell_type": "markdown",
   "id": "d16852cb-e5fd-4032-b6cc-b1d1bc9f282c",
   "metadata": {},
   "source": [
    "#### Exponentiation (**)"
   ]
  },
  {
   "cell_type": "code",
   "execution_count": 18,
   "id": "6bc9c5e1-b4b2-4aa3-9388-07ddbb85ad0f",
   "metadata": {},
   "outputs": [
    {
     "data": {
      "text/plain": [
       "9"
      ]
     },
     "execution_count": 18,
     "metadata": {},
     "output_type": "execute_result"
    }
   ],
   "source": [
    "3 ** 2"
   ]
  },
  {
   "cell_type": "markdown",
   "id": "153f9ab0-2256-4cf7-81aa-5bdd8f5707f5",
   "metadata": {},
   "source": [
    "**DIY:** Calculate the area of a square with length a. You can assign any positive length value to a."
   ]
  },
  {
   "cell_type": "code",
   "execution_count": 19,
   "id": "e0d342de-46d4-4baf-ab24-7f32d39ec8a6",
   "metadata": {},
   "outputs": [],
   "source": [
    "a = 5\n",
    "square_area = a * a"
   ]
  },
  {
   "cell_type": "code",
   "execution_count": 20,
   "id": "833cbff8-6594-4c93-a274-7aa5945ce402",
   "metadata": {},
   "outputs": [
    {
     "name": "stdout",
     "output_type": "stream",
     "text": [
      "25\n"
     ]
    }
   ],
   "source": [
    "print(square_area)"
   ]
  },
  {
   "cell_type": "markdown",
   "id": "66cac9cb-02aa-4d12-9de8-43e515fa7918",
   "metadata": {},
   "source": [
    "**DIY:** Calculate the area of a triangle with height h and a base b. You can assign any positive real number to h and b."
   ]
  },
  {
   "cell_type": "code",
   "execution_count": 21,
   "id": "014a7924-2ced-47c8-96bf-85a7a2431a9b",
   "metadata": {},
   "outputs": [],
   "source": [
    "h = 10\n",
    "b = 3\n",
    "\n",
    "triangle_area = (b * h) / 2"
   ]
  },
  {
   "cell_type": "code",
   "execution_count": 22,
   "id": "91ba4d86-7b30-4377-9098-79a59f6eac25",
   "metadata": {},
   "outputs": [
    {
     "name": "stdout",
     "output_type": "stream",
     "text": [
      "15.0\n"
     ]
    }
   ],
   "source": [
    "print(triangle_area)"
   ]
  },
  {
   "cell_type": "markdown",
   "id": "8db3680b-ec51-4d2a-94cf-2f009c118500",
   "metadata": {},
   "source": [
    "**DIY:** Calculate the area of a circle with radius r. You can assign any positive real number to r."
   ]
  },
  {
   "cell_type": "code",
   "execution_count": 23,
   "id": "6f6712a2-5aed-4dc9-81cc-fae9ee189396",
   "metadata": {},
   "outputs": [],
   "source": [
    "r = 3\n",
    "\n",
    "circle_area = pi*( r ** 2)"
   ]
  },
  {
   "cell_type": "code",
   "execution_count": 24,
   "id": "a128818f-a3f4-4441-8b76-8e4dd1737ddc",
   "metadata": {},
   "outputs": [
    {
     "name": "stdout",
     "output_type": "stream",
     "text": [
      "28.273500000000002\n"
     ]
    }
   ],
   "source": [
    "print(circle_area)"
   ]
  },
  {
   "cell_type": "markdown",
   "id": "71d222e2-aee0-4417-83aa-bcd88c553000",
   "metadata": {},
   "source": [
    "**CHALLENGE:** Find *x1* and *x2* given the coefficients *a, b* and *c* using the quadratic formula."
   ]
  },
  {
   "cell_type": "code",
   "execution_count": 25,
   "id": "f6a343b3-eb19-41d1-8a4c-f0b1d1f6012a",
   "metadata": {},
   "outputs": [],
   "source": [
    "a = 2\n",
    "b = 3\n",
    "c = -4"
   ]
  },
  {
   "cell_type": "code",
   "execution_count": 26,
   "id": "826a7064-9407-400c-bad6-8d1d6931d259",
   "metadata": {},
   "outputs": [],
   "source": [
    "x1 = (- b + ((b ** 2) - (4 * a * c))**0.5) / (2 * a)\n",
    "x2 = (- b - ((b ** 2) - (4 * a * c))**0.5) / (2 * a)"
   ]
  },
  {
   "cell_type": "markdown",
   "id": "f8486ce5-8389-4015-aebb-3ed1179ddd51",
   "metadata": {},
   "source": [
    "#### The correct answer is:\n",
    "* x1 = 0.8507810593582121\n",
    "* x2 = -2.350781059358212\n",
    "\n",
    "\n",
    "#### Your answer is:"
   ]
  },
  {
   "cell_type": "code",
   "execution_count": 27,
   "id": "6eeb9dd0-c9f7-476a-8202-a66d0f9c08c2",
   "metadata": {},
   "outputs": [
    {
     "name": "stdout",
     "output_type": "stream",
     "text": [
      "x1 = 0.8507810593582121\n",
      "x2 = -2.350781059358212\n"
     ]
    }
   ],
   "source": [
    "print(\"x1 =\", x1)\n",
    "print(\"x2 =\", x2)"
   ]
  }
 ],
 "metadata": {
  "interpreter": {
   "hash": "fe44fef87f92f48a3a32707d0df204585f471652bc0ce87358a3ce712bc24db0"
  },
  "kernelspec": {
   "display_name": "Python 3.9.7 64-bit",
   "name": "python3"
  },
  "language_info": {
   "codemirror_mode": {
    "name": "ipython",
    "version": 3
   },
   "file_extension": ".py",
   "mimetype": "text/x-python",
   "name": "python",
   "nbconvert_exporter": "python",
   "pygments_lexer": "ipython3",
   "version": "3.9.7"
  }
 },
 "nbformat": 4,
 "nbformat_minor": 5
}
