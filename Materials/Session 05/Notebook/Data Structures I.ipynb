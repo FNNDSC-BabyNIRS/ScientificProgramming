{
 "cells": [
  {
   "cell_type": "markdown",
   "id": "2659f0ab-6860-40c2-bd91-8e62b6f22482",
   "metadata": {},
   "source": [
    "# Python Bootcamp \n",
    "## Session 05 - Data Structures"
   ]
  },
  {
   "cell_type": "markdown",
   "id": "1d2a61cd-39c6-4e66-97b2-45ff3a1bb20d",
   "metadata": {},
   "source": [
    "### Arrays Operations\n",
    "\n",
    "Ordered collection of data of any type.\n",
    "\n",
    "    my_array = [False, \"one\", 2, 3.0]"
   ]
  },
  {
   "cell_type": "markdown",
   "id": "6b796020-6bef-426e-abbb-ea3328962f00",
   "metadata": {},
   "source": [
    "**len( array )**: Returns the number of elements on the list."
   ]
  },
  {
   "cell_type": "code",
   "execution_count": 26,
   "id": "ecb931db-6355-4142-9f48-06874c897c3b",
   "metadata": {},
   "outputs": [
    {
     "data": {
      "text/plain": [
       "4"
      ]
     },
     "execution_count": 26,
     "metadata": {},
     "output_type": "execute_result"
    }
   ],
   "source": [
    "my_array = [\"hello\", \"world\", \"!\", 8]\n",
    "len(my_array)"
   ]
  },
  {
   "cell_type": "markdown",
   "id": "277f4e5a-a0dc-48ef-9781-9a8b987ede00",
   "metadata": {},
   "source": [
    "**min( array )**: Returns the minimum element of the list. The list must have at least one element or it will throw an error."
   ]
  },
  {
   "cell_type": "code",
   "execution_count": 29,
   "id": "492e7e17-a226-45d6-a772-530374909796",
   "metadata": {},
   "outputs": [
    {
     "data": {
      "text/plain": [
       "12"
      ]
     },
     "execution_count": 29,
     "metadata": {},
     "output_type": "execute_result"
    }
   ],
   "source": [
    "my_array = [55, 12, 33]\n",
    "min(my_array)"
   ]
  },
  {
   "cell_type": "markdown",
   "id": "f5f12139-ec48-4d83-a3d2-7d6209b7eed3",
   "metadata": {},
   "source": [
    "**max( array )**: Returns the maximum element of the list of numerical values. The list must have at least one element or it will throw an error."
   ]
  },
  {
   "cell_type": "code",
   "execution_count": 30,
   "id": "9ff63e42-338c-44e9-b5c2-cd87b784f02c",
   "metadata": {},
   "outputs": [
    {
     "data": {
      "text/plain": [
       "55"
      ]
     },
     "execution_count": 30,
     "metadata": {},
     "output_type": "execute_result"
    }
   ],
   "source": [
    "my_array = [55, 12, 33]\n",
    "max(my_array)"
   ]
  },
  {
   "cell_type": "markdown",
   "id": "91230e46-ad7f-46b1-8b2f-4e59bbdd4b0e",
   "metadata": {},
   "source": [
    "**sum( array )**: Returns the summatory of all the elements of the list. All the elements must be numerical or it will throw an error."
   ]
  },
  {
   "cell_type": "code",
   "execution_count": 31,
   "id": "a06ee60b-8907-4a99-b3d9-33e04830f553",
   "metadata": {},
   "outputs": [
    {
     "data": {
      "text/plain": [
       "100"
      ]
     },
     "execution_count": 31,
     "metadata": {},
     "output_type": "execute_result"
    }
   ],
   "source": [
    "my_array = [55, 12, 33]\n",
    "sum(my_array)           # 55 + 12 + 33       # my_array[0] + my_array[1] + my_array[2]"
   ]
  },
  {
   "cell_type": "markdown",
   "id": "34d03f1e-2469-4051-a1b0-f20ca60874cd",
   "metadata": {},
   "source": [
    "**index( X )**: Returns the index where the element X is located. The element X must exist or it will throw an error."
   ]
  },
  {
   "cell_type": "code",
   "execution_count": 40,
   "id": "f59cf616-cdfd-4f27-bf3b-c7e8bc99c6ff",
   "metadata": {},
   "outputs": [
    {
     "data": {
      "text/plain": [
       "0"
      ]
     },
     "execution_count": 40,
     "metadata": {},
     "output_type": "execute_result"
    }
   ],
   "source": [
    "my_array = [55, \"12\", 33, 55]\n",
    "my_array.index(55)"
   ]
  },
  {
   "cell_type": "markdown",
   "id": "ac4e39f3-b117-4d80-a0b1-9cee4bcdc24e",
   "metadata": {},
   "source": [
    "**count( X )**: Returns the index where the element X is located."
   ]
  },
  {
   "cell_type": "code",
   "execution_count": 48,
   "id": "89265c51-7f17-4fac-bbdc-7b9494bd5022",
   "metadata": {},
   "outputs": [
    {
     "data": {
      "text/plain": [
       "2"
      ]
     },
     "execution_count": 48,
     "metadata": {},
     "output_type": "execute_result"
    }
   ],
   "source": [
    "my_array = [1,0,1,1,0,0,0,3,1,2, \"one\",3,4,5,5,1,1,2,3,5,1,1,1,0,2,2,2, \"one\"]\n",
    "my_array.count(\"one\")"
   ]
  },
  {
   "cell_type": "markdown",
   "id": "56e08601-f308-4ab7-af41-cf36943b59bb",
   "metadata": {},
   "source": [
    "**append( )**: Adds a new element at the end of the list."
   ]
  },
  {
   "cell_type": "code",
   "execution_count": 59,
   "id": "5d49e8a2-69b9-4b26-9195-975332064f7d",
   "metadata": {},
   "outputs": [
    {
     "data": {
      "text/plain": [
       "[1, 2, 3, 'any value', True, 3.1415]"
      ]
     },
     "execution_count": 59,
     "metadata": {},
     "output_type": "execute_result"
    }
   ],
   "source": [
    "my_array = [1, 2, 3]\n",
    "my_array.append(\"any value\")\n",
    "my_array.append(True)\n",
    "my_array.append(3.1415)\n",
    "my_array"
   ]
  },
  {
   "cell_type": "markdown",
   "id": "81e05bd8-a1f7-4933-8da0-f8ada23f965e",
   "metadata": {},
   "source": [
    "**pop( )**: Returns the last element of the list and removes it from the list. The list must have at least one element or it will throw an error."
   ]
  },
  {
   "cell_type": "code",
   "execution_count": 62,
   "id": "0c1eb098-7443-424c-891c-2b3f0094382b",
   "metadata": {},
   "outputs": [
    {
     "name": "stdout",
     "output_type": "stream",
     "text": [
      "[1, 2, 3] any value\n"
     ]
    }
   ],
   "source": [
    "x = my_array.pop()\n",
    "print(my_array, x)"
   ]
  },
  {
   "cell_type": "markdown",
   "id": "35d5dff6-6171-479d-b732-3f940d0eec27",
   "metadata": {},
   "source": [
    "**insert( )**: It inserts the element X in posiiton with index N of the array. The rest of elements from N and after of the original list will be pushed one index."
   ]
  },
  {
   "cell_type": "code",
   "execution_count": 65,
   "id": "2f69a7c3-6f85-4a1d-ae23-96a5a73e8540",
   "metadata": {},
   "outputs": [
    {
     "data": {
      "text/plain": [
       "[6, 3, 9, 8, 4]"
      ]
     },
     "execution_count": 65,
     "metadata": {},
     "output_type": "execute_result"
    }
   ],
   "source": [
    "my_array = [6,9,8,4]\n",
    "my_array.insert(1, 3)\n",
    "my_array"
   ]
  },
  {
   "cell_type": "markdown",
   "id": "5b20ef7f-301f-4e86-8aad-41ee9bc3bd5f",
   "metadata": {},
   "source": [
    "**remove( )**: It removes the first occurrence of the element X. The list must contain the element X or it will throw an error."
   ]
  },
  {
   "cell_type": "code",
   "execution_count": 67,
   "id": "f3326387-928a-4d7b-8940-b8874fb7b5dc",
   "metadata": {},
   "outputs": [
    {
     "data": {
      "text/plain": [
       "[4, 7, 2]"
      ]
     },
     "execution_count": 67,
     "metadata": {},
     "output_type": "execute_result"
    }
   ],
   "source": [
    "my_array = [4,2,7,2]\n",
    "\n",
    "my_array.remove(2)\n",
    "my_array"
   ]
  },
  {
   "cell_type": "markdown",
   "id": "5ec0bde9-280f-45c1-907e-d98471e1e260",
   "metadata": {},
   "source": [
    "**sort( )**: It will sort the list. All the elements must be numerical or it will throw an error."
   ]
  },
  {
   "cell_type": "code",
   "execution_count": 69,
   "id": "7347f61d-2fa2-443a-b5fe-89af3147e9a0",
   "metadata": {},
   "outputs": [
    {
     "data": {
      "text/plain": [
       "[-43, 2, 4, 7]"
      ]
     },
     "execution_count": 69,
     "metadata": {},
     "output_type": "execute_result"
    }
   ],
   "source": [
    "my_array = [4,2,7, -43]\n",
    "my_array.sort()\n",
    "my_array"
   ]
  },
  {
   "cell_type": "markdown",
   "id": "7649ce45-8d10-4d4a-8a82-864be23df869",
   "metadata": {},
   "source": [
    "**reverse( )**: It will reverse the order of the elements on the list."
   ]
  },
  {
   "cell_type": "code",
   "execution_count": 71,
   "id": "f732e9c4-5ea1-4d33-a0f3-9d2def553b50",
   "metadata": {},
   "outputs": [
    {
     "data": {
      "text/plain": [
       "[9, 8, 7, 6, 5, 4, 3, 2, 1]"
      ]
     },
     "execution_count": 71,
     "metadata": {},
     "output_type": "execute_result"
    }
   ],
   "source": [
    "my_array = [1,2,3,4,5,6,7,8,9]\n",
    "my_array.reverse()\n",
    "my_array"
   ]
  },
  {
   "cell_type": "code",
   "execution_count": null,
   "id": "75665892-31f3-476e-a788-028d51f43e55",
   "metadata": {},
   "outputs": [],
   "source": []
  }
 ],
 "metadata": {
  "kernelspec": {
   "display_name": "Python 3",
   "language": "python",
   "name": "python3"
  },
  "language_info": {
   "codemirror_mode": {
    "name": "ipython",
    "version": 3
   },
   "file_extension": ".py",
   "mimetype": "text/x-python",
   "name": "python",
   "nbconvert_exporter": "python",
   "pygments_lexer": "ipython3",
   "version": "3.8.5"
  }
 },
 "nbformat": 4,
 "nbformat_minor": 5
}
