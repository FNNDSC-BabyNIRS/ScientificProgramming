{
 "cells": [
  {
   "cell_type": "markdown",
   "id": "a5ec27ac-8373-4627-9c31-400524fea947",
   "metadata": {},
   "source": [
    "# Python Bootcamp \n",
    "## Session 04 - Arrays and Dictionaries"
   ]
  },
  {
   "cell_type": "markdown",
   "id": "7ea0b078-f40a-40e7-94c5-578bee350c50",
   "metadata": {},
   "source": [
    "### Programming Laboratory\n",
    "\n",
    "In this session we'll program an inventory system for a small market."
   ]
  },
  {
   "cell_type": "markdown",
   "id": "e77fbd8a-2a89-4763-a766-1de714df6964",
   "metadata": {},
   "source": [
    "1) Write a function **purchase** that recieves an array ***grocery_list*** that contains 3 integers, each one representing the quantity of each fruit. Print the ticket of the corresponding purchaseas shown bellow:\n",
    "\n",
    "\n",
    "    TICKET\n",
    "    --------------------------\n",
    "    22 - apples - $242.0\n",
    "    \n",
    "    12 - oranges - $291.6\n",
    "    \n",
    "    5 - peaches - $39.0\n",
    "    --------------------------\n",
    "    Total: 572.6"
   ]
  },
  {
   "cell_type": "code",
   "execution_count": 1,
   "id": "6b973328-4c16-421e-8320-d723dbf48544",
   "metadata": {},
   "outputs": [],
   "source": [
    "inventory = { \"apples\": 22, \"oranges\":81, \"peaches\": 39}\n",
    "unitary_price = { \"apples\": 0.50, \"oranges\":0.30, \"peaches\": 0.2}\n",
    "products = [\"apples\", \"oranges\", \"peaches\"]"
   ]
  },
  {
   "cell_type": "code",
   "execution_count": 2,
   "id": "ceb1b907-52ed-44b4-82d0-e4ef241dd5d3",
   "metadata": {},
   "outputs": [],
   "source": [
    "def purchase(grocery_list):\n",
    "    print(\"\\n\")\n",
    "    print(\"\\nTICKET\")\n",
    "    print(\"--------------------------\")\n",
    "    \n",
    "    total = generate_ticket(grocery_list)\n",
    "    \n",
    "    print(\"--------------------------\")\n",
    "    print(\"Total:\", total)"
   ]
  },
  {
   "cell_type": "code",
   "execution_count": 3,
   "id": "f1e6a8eb-b5ca-42d1-a287-6ffea0aee70f",
   "metadata": {},
   "outputs": [],
   "source": [
    "def verify_inventory(product, quantity):\n",
    "    return inventory[product]>= quantity\n",
    "\n",
    "def calculate_price_of(product, quantity):\n",
    "    return inventory[product] * unitary_price[product] * quantity\n",
    "\n",
    "def generate_ticket(grocery_list):\n",
    "    total = 0\n",
    "    \n",
    "    for i in range(len(grocery_list)):\n",
    "        quantity = grocery_list[i]\n",
    "        product = products[i]\n",
    "        \n",
    "        if verify_inventory(product, quantity):\n",
    "            product_price = calculate_price_of(product, quantity)\n",
    "            total += product_price\n",
    "            print(quantity, \"-\", product,  \"- $\" + str(product_price))\n",
    "        else:\n",
    "            print(product, \"not available.\")\n",
    "    return total"
   ]
  },
  {
   "cell_type": "markdown",
   "id": "66f10cf1-e647-4352-ad51-afc83ddd13c6",
   "metadata": {},
   "source": [
    "Try the code with the following example. You can try different values"
   ]
  },
  {
   "cell_type": "code",
   "execution_count": 4,
   "id": "9b6d21df-d552-4388-b9eb-9a34df8b9ca3",
   "metadata": {},
   "outputs": [
    {
     "name": "stdout",
     "output_type": "stream",
     "text": [
      "\n",
      "\n",
      "\n",
      "TICKET\n",
      "--------------------------\n",
      "22 - apples - $242.0\n",
      "12 - oranges - $291.6\n",
      "peaches not available.\n",
      "--------------------------\n",
      "Total: 533.6\n"
     ]
    }
   ],
   "source": [
    "purchase([22, 12, 55])"
   ]
  },
  {
   "cell_type": "code",
   "execution_count": null,
   "id": "1381c646-f0c9-4e3b-bcb9-2afa50b07e7e",
   "metadata": {},
   "outputs": [
    {
     "name": "stdout",
     "output_type": "stream",
     "text": [
      "\n",
      "----- Luis's Market -----\n"
     ]
    },
    {
     "name": "stdin",
     "output_type": "stream",
     "text": [
      " 1) Purchase \n",
      " 2) Update Inventory \n",
      " 3) Exit \n",
      " Enter the option number: 2\n"
     ]
    },
    {
     "name": "stdout",
     "output_type": "stream",
     "text": [
      "--------------------------\n",
      "\n"
     ]
    },
    {
     "name": "stdin",
     "output_type": "stream",
     "text": [
      " 1) Update Inventory \n",
      " 2) Update Product Price \n",
      " 3) Exit \n",
      " Enter the option number: 1\\\n",
      "\n",
      " 1) Apple \n",
      " 2) Oranges \n",
      " 3) Peaches \n",
      " Enter the option number: 1\n"
     ]
    },
    {
     "name": "stdout",
     "output_type": "stream",
     "text": [
      "\n",
      "----- Luis's Market -----\n"
     ]
    },
    {
     "name": "stdin",
     "output_type": "stream",
     "text": [
      " 1) Purchase \n",
      " 2) Update Inventory \n",
      " 3) Exit \n",
      " Enter the option number: 2\n"
     ]
    },
    {
     "name": "stdout",
     "output_type": "stream",
     "text": [
      "--------------------------\n",
      "\n"
     ]
    },
    {
     "name": "stdin",
     "output_type": "stream",
     "text": [
      " 1) Update Inventory \n",
      " 2) Update Product Price \n",
      " 3) Exit \n",
      " Enter the option number: 1\n",
      "\n",
      " 1) Apple \n",
      " 2) Oranges \n",
      " 3) Peaches \n",
      " Enter the option number: 3\n",
      "\n",
      " What is the new price forpeaches? 9.9\n"
     ]
    },
    {
     "name": "stdout",
     "output_type": "stream",
     "text": [
      "peaches price changed from 0.2 to 9.9\n",
      "--------------------------\n",
      "\n"
     ]
    }
   ],
   "source": [
    "\n",
    "def update_inventory_of(product, restock):\n",
    "    inventory[product] += restock\n",
    "    print(restock, product, \"restocked!\")\n",
    "    \n",
    "def update_price_of(product, price):\n",
    "    prev = unitary_price[product]\n",
    "    unitary_price[product] = price\n",
    "    print(product, \"price changed from\", prev, \"to\", price)\n",
    "\n",
    "def main():\n",
    "    while(True):\n",
    "        name = \"Luis\"\n",
    "        print(\"\\n----- \" + str(name) + \"'s Market -----\")\n",
    "        user = input(\" 1) Purchase \\n 2) Update Inventory \\n 3) Exit \\n Enter the option number:\")\n",
    "        \n",
    "        if user == \"1\":\n",
    "            \n",
    "            print(\"--------------------------\")\n",
    "            print(\"Today's Deals\")\n",
    "            print(\"Apples - $\", unitary_price[\"apples\"], \"each\")\n",
    "            print(\"Oranges - $\", unitary_price[\"oranges\"], \"each\")\n",
    "            print(\"Peaches - $\", unitary_price[\"peaches\"], \"each\")\n",
    "            print(\"--------------------------\\n\")\n",
    "            \n",
    "            apples = int(input(\"How many apples do you want?\"))\n",
    "            oranges = int(input(\"How many oranges do you want?\"))\n",
    "            peaches = int(input(\"How many peaches do you want?\"))\n",
    "            \n",
    "            purchase([apples, oranges, peaches])\n",
    "            \n",
    "            again = input(\"Do you want to buy something else? [y/n]:\")\n",
    "            \n",
    "            if again != \"y\":\n",
    "                break\n",
    "        \n",
    "        elif user == \"2\":\n",
    "            \n",
    "            while(True):\n",
    "                print(\"--------------------------\\n\")\n",
    "                update = input(\" 1) Update Inventory \\n 2) Update Product Price \\n 3) Exit \\n Enter the option number:\")\n",
    "                product = input(\"\\n 1) Apple \\n 2) Oranges \\n 3) Peaches \\n Enter the option number:\")\n",
    "\n",
    "                if update == \"1\":\n",
    "                    price = input(\"\\n What is the new price for\" + str(products[int(product)-1]) +\"?\")\n",
    "                    update_price_of(products[int(product)-1], float(price))\n",
    "                    \n",
    "\n",
    "                elif update == \"2\":\n",
    "                    restock = input(\"\\n How many products were restocked?\")\n",
    "                    update_inventory_of(products[int(product)-1], int(restock))\n",
    "\n",
    "                else:\n",
    "                    break\n",
    "        \n",
    "        else:\n",
    "            break\n",
    "main()"
   ]
  },
  {
   "cell_type": "code",
   "execution_count": null,
   "id": "7c663d5b-65dd-4dc7-b873-669ee2259a7e",
   "metadata": {},
   "outputs": [],
   "source": []
  }
 ],
 "metadata": {
  "kernelspec": {
   "display_name": "Python 3",
   "language": "python",
   "name": "python3"
  },
  "language_info": {
   "codemirror_mode": {
    "name": "ipython",
    "version": 3
   },
   "file_extension": ".py",
   "mimetype": "text/x-python",
   "name": "python",
   "nbconvert_exporter": "python",
   "pygments_lexer": "ipython3",
   "version": "3.8.5"
  }
 },
 "nbformat": 4,
 "nbformat_minor": 5
}
