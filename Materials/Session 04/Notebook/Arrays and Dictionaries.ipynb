{
 "cells": [
  {
   "cell_type": "markdown",
   "id": "a5ec27ac-8373-4627-9c31-400524fea947",
   "metadata": {},
   "source": [
    "# Python Bootcamp \n",
    "## Session 04 - Arrays and Dictionaries"
   ]
  },
  {
   "cell_type": "markdown",
   "id": "7ea0b078-f40a-40e7-94c5-578bee350c50",
   "metadata": {},
   "source": [
    "### Programming Laboratory\n",
    "\n",
    "In this session we'll program an inventory system for a small market."
   ]
  },
  {
   "cell_type": "markdown",
   "id": "e77fbd8a-2a89-4763-a766-1de714df6964",
   "metadata": {},
   "source": [
    "1) Write a function **purchase** that recieves an array ***grocery_list*** that contains 3 integers, each one representing the quantity of each fruit. Print the ticket of the corresponding purchaseas shown bellow:\n",
    "\n",
    "\n",
    "    TICKET\n",
    "    --------------------------\n",
    "    22 - apples - $242.0\n",
    "    \n",
    "    12 - oranges - $291.6\n",
    "    \n",
    "    5 - peaches - $39.0\n",
    "    --------------------------\n",
    "    Total: 572.6"
   ]
  },
  {
   "cell_type": "code",
   "execution_count": null,
   "id": "6b973328-4c16-421e-8320-d723dbf48544",
   "metadata": {},
   "outputs": [],
   "source": [
    "inventory = { \"apples\": 22, \"oranges\":81, \"peaches\": 39}\n",
    "unitary_price = { \"apples\": 0.50, \"oranges\":0.30, \"peaches\": 0.2}\n",
    "products = [\"apples\", \"oranges\", \"peaches\"]"
   ]
  },
  {
   "cell_type": "code",
   "execution_count": null,
   "id": "ceb1b907-52ed-44b4-82d0-e4ef241dd5d3",
   "metadata": {},
   "outputs": [],
   "source": [
    "def purchase(grocery_list):\n",
    "    \n",
    "    # TO DO: Print the Ticket header\n",
    "    \n",
    "    \n",
    "    # TO DO: Call the function generate_ticket and pass grocery_list as a parameter. Save the output of the function as total\n",
    "    \n",
    "    \n",
    "    # TO DO: Print the Ticket header with the total variable to show the final price\n",
    "    \n",
    "    \n",
    "    return "
   ]
  },
  {
   "cell_type": "code",
   "execution_count": null,
   "id": "f1e6a8eb-b5ca-42d1-a287-6ffea0aee70f",
   "metadata": {},
   "outputs": [],
   "source": [
    "def verify_inventory(product, quantity):\n",
    "    # TO DO: Return True if the inventory of the product is greater or equal than the requested product quantity using the inventory dictionary.\n",
    "    return \n",
    "\n",
    "def calculate_price_of(product, quantity):\n",
    "    #TO DO: Calculate the price of the given products using the unitary_price dictionary and the requested quantity \n",
    "    return\n",
    "\n",
    "def generate_ticket(grocery_list):\n",
    "    \n",
    "    #TO DO: Create a variable total and assign it a value of 0.\n",
    "    \n",
    "    \n",
    "    #TO DO: Create a loop to have the variables of the quantity from the array grocery_list and the name of the product of the array products.\n",
    "    \n",
    "        # TO DO: Creat a control structure that uses verify_inventory to verify that the inventory is available to supply the purchase.\n",
    "        \n",
    "            # TO DO:  Use calculate_price_of that recieves the variables product, quantity\n",
    "            \n",
    "            # TO DO: Add the calculated price to the total price\n",
    "            \n",
    "            # TO DO: Print the quantity, product name and price for that product\n",
    "            \n",
    "        # TO DO: If the inventory is not enough, print the name of the product with the label \"not available.\"\n",
    "        \n",
    "    \n",
    "    # TO DO: Return the total value of the purchase.\n",
    "    "
   ]
  },
  {
   "cell_type": "markdown",
   "id": "66f10cf1-e647-4352-ad51-afc83ddd13c6",
   "metadata": {},
   "source": [
    "Try the code with the following example. You can try different values"
   ]
  },
  {
   "cell_type": "code",
   "execution_count": null,
   "id": "9b6d21df-d552-4388-b9eb-9a34df8b9ca3",
   "metadata": {},
   "outputs": [],
   "source": [
    "purchase([22, 12, 55])"
   ]
  },
  {
   "cell_type": "code",
   "execution_count": null,
   "id": "1381c646-f0c9-4e3b-bcb9-2afa50b07e7e",
   "metadata": {},
   "outputs": [],
   "source": [
    "def main():\n",
    "    while(True):\n",
    "        name = \"Luis\"\n",
    "        print(\"\\n----- \" + str(name) + \"'s Market -----\")\n",
    "        user = input(\" 1) Purchase \\n 2) Update Inventory \\n 3) Exit \\n Enter the option number:\")\n",
    "        \n",
    "        if user == \"1\":\n",
    "            \n",
    "            print(\"--------------------------\")\n",
    "            print(\"Today's Deals\")\n",
    "            print(\"Apples -$\", unitary_price[\"apples\"], \"each\")\n",
    "            print(\"Oranges -$\", unitary_price[\"oranges\"], \"each\")\n",
    "            print(\"Peaches -$\", unitary_price[\"peaches\"], \"each\")\n",
    "            print(\"--------------------------\\n\")\n",
    "            \n",
    "            apples = int(input(\"How many apples do you want?\"))\n",
    "            oranges = int(input(\"How many oranges do you want?\"))\n",
    "            peaches = int(input(\"How many peaches do you want?\"))\n",
    "            \n",
    "            purchase([apples, oranges, peaches])\n",
    "            \n",
    "            again = input(\"Do you want to buy something else? [y/n]:\")\n",
    "            \n",
    "            if again != \"y\":\n",
    "                break\n",
    "        \n",
    "        elif user == \"2\":\n",
    "            # TO DO: Allow the user to update the inventory with the function update_inventory_of(product, quantity)\n",
    "            \n",
    "            \n",
    "            # TO DO: Allow the user to update the inventory with the function update_price_of(product, new_price)\n",
    "            \n",
    "            \n",
    "            pass\n",
    "        else:\n",
    "            break\n",
    "main()"
   ]
  },
  {
   "cell_type": "code",
   "execution_count": 4,
   "id": "d72729ae-927e-4389-b170-bc58c6399180",
   "metadata": {},
   "outputs": [],
   "source": [
    "ls = [1, 2,3,4]\n",
    "\n",
    "x = sum(ls) / 4"
   ]
  },
  {
   "cell_type": "code",
   "execution_count": 5,
   "id": "6c90bb9a-ac6d-4a79-a587-6cbf0ff95598",
   "metadata": {},
   "outputs": [
    {
     "data": {
      "text/plain": [
       "2.5"
      ]
     },
     "execution_count": 5,
     "metadata": {},
     "output_type": "execute_result"
    }
   ],
   "source": [
    "x"
   ]
  },
  {
   "cell_type": "code",
   "execution_count": null,
   "id": "7d302f45-d2cb-468a-a128-ff84a84dc271",
   "metadata": {},
   "outputs": [],
   "source": []
  }
 ],
 "metadata": {
  "kernelspec": {
   "display_name": "Python 3",
   "language": "python",
   "name": "python3"
  },
  "language_info": {
   "codemirror_mode": {
    "name": "ipython",
    "version": 3
   },
   "file_extension": ".py",
   "mimetype": "text/x-python",
   "name": "python",
   "nbconvert_exporter": "python",
   "pygments_lexer": "ipython3",
   "version": "3.8.5"
  }
 },
 "nbformat": 4,
 "nbformat_minor": 5
}
