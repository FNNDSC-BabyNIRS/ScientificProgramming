{
 "cells": [
  {
   "cell_type": "code",
   "execution_count": 1,
   "id": "cc9f89ef-01c5-4f6e-88d0-3b0546c46ed6",
   "metadata": {},
   "outputs": [
    {
     "data": {
      "text/plain": [
       "'/home/shared/luis/ScientificProgramming'"
      ]
     },
     "execution_count": 1,
     "metadata": {},
     "output_type": "execute_result"
    }
   ],
   "source": [
    "pwd"
   ]
  },
  {
   "cell_type": "code",
   "execution_count": 2,
   "id": "597c6e80-a335-473d-999c-71a73811a767",
   "metadata": {},
   "outputs": [
    {
     "name": "stdout",
     "output_type": "stream",
     "text": [
      "/home/shared/luis\n"
     ]
    }
   ],
   "source": [
    "cd .."
   ]
  },
  {
   "cell_type": "code",
   "execution_count": 3,
   "id": "3ae4e077-3c61-4422-b79a-185b218e2806",
   "metadata": {},
   "outputs": [
    {
     "name": "stdout",
     "output_type": "stream",
     "text": [
      "\u001b[0m\u001b[01;34mCT_segmentation\u001b[0m/   \u001b[01;34mScientificProgramming\u001b[0m/  \u001b[01;34moutcome_prediction\u001b[0m/\n",
      "\u001b[01;34mMRI_segmentation\u001b[0m/  \u001b[01;34m__pycache__\u001b[0m/\n"
     ]
    }
   ],
   "source": [
    "ls"
   ]
  },
  {
   "cell_type": "code",
   "execution_count": 4,
   "id": "d8078efc-4bc2-43cb-823f-55621439c325",
   "metadata": {},
   "outputs": [
    {
     "name": "stdout",
     "output_type": "stream",
     "text": [
      "/home/shared/luis/ScientificProgramming\n"
     ]
    }
   ],
   "source": [
    "cd ScientificProgramming/"
   ]
  },
  {
   "cell_type": "code",
   "execution_count": 5,
   "id": "565e80ac-2f1e-4747-9fd4-8fe72a819737",
   "metadata": {},
   "outputs": [
    {
     "name": "stdout",
     "output_type": "stream",
     "text": [
      "'Git Notebook.ipynb'   Materials   README.md\n"
     ]
    }
   ],
   "source": [
    "!ls"
   ]
  },
  {
   "cell_type": "code",
   "execution_count": 6,
   "id": "572c847b-294a-4819-8c31-94a8b9e9607b",
   "metadata": {},
   "outputs": [],
   "source": [
    "!git add ."
   ]
  },
  {
   "cell_type": "code",
   "execution_count": 7,
   "id": "86f06355-082b-4d63-b282-ff1967a28ad4",
   "metadata": {},
   "outputs": [
    {
     "name": "stdout",
     "output_type": "stream",
     "text": [
      "[main f82b590] Session 08\n",
      " 18 files changed, 2777 insertions(+), 142 deletions(-)\n",
      " create mode 100644 Materials/Session 08/LAB/.ipynb_checkpoints/LAB_Reading_Files-checkpoint.ipynb\n",
      " create mode 100644 Materials/Session 08/LAB/.ipynb_checkpoints/SOLVED_LAB_Reading_Files-checkpoint.ipynb\n",
      " create mode 100644 Materials/Session 08/LAB/Files/.ipynb_checkpoints/cute_animals-checkpoint.txt\n",
      " create mode 100644 Materials/Session 08/LAB/Files/.ipynb_checkpoints/hello-checkpoint.txt\n",
      " create mode 100644 Materials/Session 08/LAB/Files/cute_animals.txt\n",
      " create mode 100644 Materials/Session 08/LAB/Files/hello.txt\n",
      " create mode 100644 Materials/Session 08/LAB/LAB_Reading_Files.ipynb\n",
      " create mode 100644 Materials/Session 08/LAB/SOLVED_LAB_Reading_Files.ipynb\n",
      " create mode 100644 Materials/Session 08/Mini Project/.ipynb_checkpoints/MiniProject-checkpoint.ipynb\n",
      " create mode 100644 Materials/Session 08/Mini Project/.ipynb_checkpoints/list_of_countries-checkpoint.txt\n",
      " create mode 100644 Materials/Session 08/Mini Project/MiniProject.ipynb\n",
      " create mode 100644 Materials/Session 08/Mini Project/list_of_countries.txt\n"
     ]
    }
   ],
   "source": [
    "!git commit -m \"Session 08\""
   ]
  },
  {
   "cell_type": "code",
   "execution_count": 8,
   "id": "25453e5e-de58-4a50-a3fa-9cfe68dc0c57",
   "metadata": {},
   "outputs": [
    {
     "name": "stdout",
     "output_type": "stream",
     "text": [
      "Already up to date.\n"
     ]
    }
   ],
   "source": [
    "!git pull"
   ]
  },
  {
   "cell_type": "code",
   "execution_count": 9,
   "id": "d92d3925-8172-4af3-a618-cc788c9192fb",
   "metadata": {},
   "outputs": [
    {
     "name": "stdout",
     "output_type": "stream",
     "text": [
      "Username for 'https://github.com': ^C\n"
     ]
    }
   ],
   "source": [
    "!git push"
   ]
  },
  {
   "cell_type": "code",
   "execution_count": null,
   "id": "32eff7f4-01c1-450c-b15f-2321d2c2f296",
   "metadata": {},
   "outputs": [],
   "source": []
  }
 ],
 "metadata": {
  "kernelspec": {
   "display_name": "Python 3 (ipykernel)",
   "language": "python",
   "name": "python3"
  },
  "language_info": {
   "codemirror_mode": {
    "name": "ipython",
    "version": 3
   },
   "file_extension": ".py",
   "mimetype": "text/x-python",
   "name": "python",
   "nbconvert_exporter": "python",
   "pygments_lexer": "ipython3",
   "version": "3.8.5"
  }
 },
 "nbformat": 4,
 "nbformat_minor": 5
}
